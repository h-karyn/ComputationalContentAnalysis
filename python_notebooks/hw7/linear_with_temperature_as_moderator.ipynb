{
 "cells": [
  {
   "cell_type": "code",
   "execution_count": 1,
   "id": "initial_id",
   "metadata": {
    "collapsed": true,
    "ExecuteTime": {
     "end_time": "2024-02-21T18:38:57.245715Z",
     "start_time": "2024-02-21T18:38:55.843669Z"
    }
   },
   "outputs": [],
   "source": [
    "import statsmodels.api as sm\n",
    "import pandas as pd"
   ]
  },
  {
   "cell_type": "code",
   "outputs": [],
   "source": [
    "# load data\n",
    "moral_2 = pd.read_csv('../clean_data/expanded_moral_temp0.2.csv')\n",
    "moral_7 = pd.read_csv('../clean_data/expanded_moral_temp0.7.csv')\n",
    "risk_2 = pd.read_csv('../clean_data/expanded_risk_temp0.2.csv')\n",
    "risk_7 = pd.read_csv('../clean_data/expanded_risk_temp0.7.csv')"
   ],
   "metadata": {
    "collapsed": false,
    "ExecuteTime": {
     "end_time": "2024-02-21T18:38:57.369982Z",
     "start_time": "2024-02-21T18:38:57.247318Z"
    }
   },
   "id": "a65978c839c6c6a8",
   "execution_count": 2
  },
  {
   "cell_type": "code",
   "outputs": [],
   "source": [
    "# add temperature \n",
    "moral_2['temp'] = 0.2\n",
    "moral_7['temp'] = 0.7\n",
    "risk_2['temp'] = 0.2\n",
    "risk_7['temp'] = 0.7"
   ],
   "metadata": {
    "collapsed": false,
    "ExecuteTime": {
     "end_time": "2024-02-21T18:38:57.378242Z",
     "start_time": "2024-02-21T18:38:57.372389Z"
    }
   },
   "id": "816ca2d2257624da",
   "execution_count": 3
  },
  {
   "cell_type": "code",
   "outputs": [],
   "source": [
    "# combine two datasets\n",
    "moral = pd.concat([moral_2, moral_7])\n",
    "risk = pd.concat([risk_2, risk_7])"
   ],
   "metadata": {
    "collapsed": false,
    "ExecuteTime": {
     "end_time": "2024-02-21T18:38:57.394354Z",
     "start_time": "2024-02-21T18:38:57.375204Z"
    }
   },
   "id": "5e201e9900361483",
   "execution_count": 4
  },
  {
   "cell_type": "markdown",
   "source": [
    "# Examine Moral Stories"
   ],
   "metadata": {
    "collapsed": false
   },
   "id": "26d9304696e2f0f2"
  },
  {
   "cell_type": "markdown",
   "source": [
    "## Moral Stories 0.2"
   ],
   "metadata": {
    "collapsed": false
   },
   "id": "7b1508cde7935cac"
  },
  {
   "cell_type": "code",
   "outputs": [],
   "source": [
    "def simple_ols(df, y, x):\n",
    "    X = df[x] * df['temp']\n",
    "    y = df[y]\n",
    "    X = sm.add_constant(X)\n",
    "    model = sm.OLS(y, X).fit()\n",
    "    return model.summary()"
   ],
   "metadata": {
    "collapsed": false,
    "ExecuteTime": {
     "end_time": "2024-02-21T18:38:57.394759Z",
     "start_time": "2024-02-21T18:38:57.383151Z"
    }
   },
   "id": "310a181edeaac65d",
   "execution_count": 5
  },
  {
   "cell_type": "code",
   "outputs": [
    {
     "data": {
      "text/plain": "<class 'statsmodels.iolib.summary.Summary'>\n\"\"\"\n                            OLS Regression Results                            \n==============================================================================\nDep. Variable:            moral_score   R-squared:                       0.007\nModel:                            OLS   Adj. R-squared:                  0.005\nMethod:                 Least Squares   F-statistic:                     4.263\nDate:                Wed, 21 Feb 2024   Prob (F-statistic):             0.0394\nTime:                        12:38:57   Log-Likelihood:                -1617.6\nNo. Observations:                 598   AIC:                             3239.\nDf Residuals:                     596   BIC:                             3248.\nDf Model:                           1                                         \nCovariance Type:            nonrobust                                         \n==============================================================================\n                 coef    std err          t      P>|t|      [0.025      0.975]\n------------------------------------------------------------------------------\nconst         28.0211      0.291     96.243      0.000      27.449      28.593\n0              0.0299      0.014      2.065      0.039       0.001       0.058\n==============================================================================\nOmnibus:                        1.615   Durbin-Watson:                   2.060\nProb(Omnibus):                  0.446   Jarque-Bera (JB):                1.466\nSkew:                          -0.115   Prob(JB):                        0.481\nKurtosis:                       3.077   Cond. No.                         39.5\n==============================================================================\n\nNotes:\n[1] Standard Errors assume that the covariance matrix of the errors is correctly specified.\n\"\"\"",
      "text/html": "<table class=\"simpletable\">\n<caption>OLS Regression Results</caption>\n<tr>\n  <th>Dep. Variable:</th>       <td>moral_score</td>   <th>  R-squared:         </th> <td>   0.007</td>\n</tr>\n<tr>\n  <th>Model:</th>                   <td>OLS</td>       <th>  Adj. R-squared:    </th> <td>   0.005</td>\n</tr>\n<tr>\n  <th>Method:</th>             <td>Least Squares</td>  <th>  F-statistic:       </th> <td>   4.263</td>\n</tr>\n<tr>\n  <th>Date:</th>             <td>Wed, 21 Feb 2024</td> <th>  Prob (F-statistic):</th>  <td>0.0394</td> \n</tr>\n<tr>\n  <th>Time:</th>                 <td>12:38:57</td>     <th>  Log-Likelihood:    </th> <td> -1617.6</td>\n</tr>\n<tr>\n  <th>No. Observations:</th>      <td>   598</td>      <th>  AIC:               </th> <td>   3239.</td>\n</tr>\n<tr>\n  <th>Df Residuals:</th>          <td>   596</td>      <th>  BIC:               </th> <td>   3248.</td>\n</tr>\n<tr>\n  <th>Df Model:</th>              <td>     1</td>      <th>                     </th>     <td> </td>   \n</tr>\n<tr>\n  <th>Covariance Type:</th>      <td>nonrobust</td>    <th>                     </th>     <td> </td>   \n</tr>\n</table>\n<table class=\"simpletable\">\n<tr>\n    <td></td>       <th>coef</th>     <th>std err</th>      <th>t</th>      <th>P>|t|</th>  <th>[0.025</th>    <th>0.975]</th>  \n</tr>\n<tr>\n  <th>const</th> <td>   28.0211</td> <td>    0.291</td> <td>   96.243</td> <td> 0.000</td> <td>   27.449</td> <td>   28.593</td>\n</tr>\n<tr>\n  <th>0</th>     <td>    0.0299</td> <td>    0.014</td> <td>    2.065</td> <td> 0.039</td> <td>    0.001</td> <td>    0.058</td>\n</tr>\n</table>\n<table class=\"simpletable\">\n<tr>\n  <th>Omnibus:</th>       <td> 1.615</td> <th>  Durbin-Watson:     </th> <td>   2.060</td>\n</tr>\n<tr>\n  <th>Prob(Omnibus):</th> <td> 0.446</td> <th>  Jarque-Bera (JB):  </th> <td>   1.466</td>\n</tr>\n<tr>\n  <th>Skew:</th>          <td>-0.115</td> <th>  Prob(JB):          </th> <td>   0.481</td>\n</tr>\n<tr>\n  <th>Kurtosis:</th>      <td> 3.077</td> <th>  Cond. No.          </th> <td>    39.5</td>\n</tr>\n</table><br/><br/>Notes:<br/>[1] Standard Errors assume that the covariance matrix of the errors is correctly specified.",
      "text/latex": "\\begin{center}\n\\begin{tabular}{lclc}\n\\toprule\n\\textbf{Dep. Variable:}    &   moral\\_score   & \\textbf{  R-squared:         } &     0.007   \\\\\n\\textbf{Model:}            &       OLS        & \\textbf{  Adj. R-squared:    } &     0.005   \\\\\n\\textbf{Method:}           &  Least Squares   & \\textbf{  F-statistic:       } &     4.263   \\\\\n\\textbf{Date:}             & Wed, 21 Feb 2024 & \\textbf{  Prob (F-statistic):} &   0.0394    \\\\\n\\textbf{Time:}             &     12:38:57     & \\textbf{  Log-Likelihood:    } &   -1617.6   \\\\\n\\textbf{No. Observations:} &         598      & \\textbf{  AIC:               } &     3239.   \\\\\n\\textbf{Df Residuals:}     &         596      & \\textbf{  BIC:               } &     3248.   \\\\\n\\textbf{Df Model:}         &           1      & \\textbf{                     } &             \\\\\n\\textbf{Covariance Type:}  &    nonrobust     & \\textbf{                     } &             \\\\\n\\bottomrule\n\\end{tabular}\n\\begin{tabular}{lcccccc}\n               & \\textbf{coef} & \\textbf{std err} & \\textbf{t} & \\textbf{P$> |$t$|$} & \\textbf{[0.025} & \\textbf{0.975]}  \\\\\n\\midrule\n\\textbf{const} &      28.0211  &        0.291     &    96.243  &         0.000        &       27.449    &       28.593     \\\\\n\\textbf{0}     &       0.0299  &        0.014     &     2.065  &         0.039        &        0.001    &        0.058     \\\\\n\\bottomrule\n\\end{tabular}\n\\begin{tabular}{lclc}\n\\textbf{Omnibus:}       &  1.615 & \\textbf{  Durbin-Watson:     } &    2.060  \\\\\n\\textbf{Prob(Omnibus):} &  0.446 & \\textbf{  Jarque-Bera (JB):  } &    1.466  \\\\\n\\textbf{Skew:}          & -0.115 & \\textbf{  Prob(JB):          } &    0.481  \\\\\n\\textbf{Kurtosis:}      &  3.077 & \\textbf{  Cond. No.          } &     39.5  \\\\\n\\bottomrule\n\\end{tabular}\n%\\caption{OLS Regression Results}\n\\end{center}\n\nNotes: \\newline\n [1] Standard Errors assume that the covariance matrix of the errors is correctly specified."
     },
     "execution_count": 6,
     "metadata": {},
     "output_type": "execute_result"
    }
   ],
   "source": [
    "simple_ols(moral, 'moral_score', \"self_ext_total\")"
   ],
   "metadata": {
    "collapsed": false,
    "ExecuteTime": {
     "end_time": "2024-02-21T18:38:57.400545Z",
     "start_time": "2024-02-21T18:38:57.386299Z"
    }
   },
   "id": "440e06c3e8fec0a",
   "execution_count": 6
  },
  {
   "cell_type": "code",
   "outputs": [
    {
     "data": {
      "text/plain": "<class 'statsmodels.iolib.summary.Summary'>\n\"\"\"\n                            OLS Regression Results                            \n==============================================================================\nDep. Variable:            moral_score   R-squared:                       0.001\nModel:                            OLS   Adj. R-squared:                 -0.000\nMethod:                 Least Squares   F-statistic:                    0.7207\nDate:                Wed, 21 Feb 2024   Prob (F-statistic):              0.396\nTime:                        12:38:57   Log-Likelihood:                -1619.4\nNo. Observations:                 598   AIC:                             3243.\nDf Residuals:                     596   BIC:                             3252.\nDf Model:                           1                                         \nCovariance Type:            nonrobust                                         \n==============================================================================\n                 coef    std err          t      P>|t|      [0.025      0.975]\n------------------------------------------------------------------------------\nconst         28.3185      0.299     94.810      0.000      27.732      28.905\n0              0.0106      0.012      0.849      0.396      -0.014       0.035\n==============================================================================\nOmnibus:                        1.919   Durbin-Watson:                   2.060\nProb(Omnibus):                  0.383   Jarque-Bera (JB):                1.738\nSkew:                          -0.120   Prob(JB):                        0.419\nKurtosis:                       3.110   Cond. No.                         48.1\n==============================================================================\n\nNotes:\n[1] Standard Errors assume that the covariance matrix of the errors is correctly specified.\n\"\"\"",
      "text/html": "<table class=\"simpletable\">\n<caption>OLS Regression Results</caption>\n<tr>\n  <th>Dep. Variable:</th>       <td>moral_score</td>   <th>  R-squared:         </th> <td>   0.001</td>\n</tr>\n<tr>\n  <th>Model:</th>                   <td>OLS</td>       <th>  Adj. R-squared:    </th> <td>  -0.000</td>\n</tr>\n<tr>\n  <th>Method:</th>             <td>Least Squares</td>  <th>  F-statistic:       </th> <td>  0.7207</td>\n</tr>\n<tr>\n  <th>Date:</th>             <td>Wed, 21 Feb 2024</td> <th>  Prob (F-statistic):</th>  <td> 0.396</td> \n</tr>\n<tr>\n  <th>Time:</th>                 <td>12:38:57</td>     <th>  Log-Likelihood:    </th> <td> -1619.4</td>\n</tr>\n<tr>\n  <th>No. Observations:</th>      <td>   598</td>      <th>  AIC:               </th> <td>   3243.</td>\n</tr>\n<tr>\n  <th>Df Residuals:</th>          <td>   596</td>      <th>  BIC:               </th> <td>   3252.</td>\n</tr>\n<tr>\n  <th>Df Model:</th>              <td>     1</td>      <th>                     </th>     <td> </td>   \n</tr>\n<tr>\n  <th>Covariance Type:</th>      <td>nonrobust</td>    <th>                     </th>     <td> </td>   \n</tr>\n</table>\n<table class=\"simpletable\">\n<tr>\n    <td></td>       <th>coef</th>     <th>std err</th>      <th>t</th>      <th>P>|t|</th>  <th>[0.025</th>    <th>0.975]</th>  \n</tr>\n<tr>\n  <th>const</th> <td>   28.3185</td> <td>    0.299</td> <td>   94.810</td> <td> 0.000</td> <td>   27.732</td> <td>   28.905</td>\n</tr>\n<tr>\n  <th>0</th>     <td>    0.0106</td> <td>    0.012</td> <td>    0.849</td> <td> 0.396</td> <td>   -0.014</td> <td>    0.035</td>\n</tr>\n</table>\n<table class=\"simpletable\">\n<tr>\n  <th>Omnibus:</th>       <td> 1.919</td> <th>  Durbin-Watson:     </th> <td>   2.060</td>\n</tr>\n<tr>\n  <th>Prob(Omnibus):</th> <td> 0.383</td> <th>  Jarque-Bera (JB):  </th> <td>   1.738</td>\n</tr>\n<tr>\n  <th>Skew:</th>          <td>-0.120</td> <th>  Prob(JB):          </th> <td>   0.419</td>\n</tr>\n<tr>\n  <th>Kurtosis:</th>      <td> 3.110</td> <th>  Cond. No.          </th> <td>    48.1</td>\n</tr>\n</table><br/><br/>Notes:<br/>[1] Standard Errors assume that the covariance matrix of the errors is correctly specified.",
      "text/latex": "\\begin{center}\n\\begin{tabular}{lclc}\n\\toprule\n\\textbf{Dep. Variable:}    &   moral\\_score   & \\textbf{  R-squared:         } &     0.001   \\\\\n\\textbf{Model:}            &       OLS        & \\textbf{  Adj. R-squared:    } &    -0.000   \\\\\n\\textbf{Method:}           &  Least Squares   & \\textbf{  F-statistic:       } &    0.7207   \\\\\n\\textbf{Date:}             & Wed, 21 Feb 2024 & \\textbf{  Prob (F-statistic):} &    0.396    \\\\\n\\textbf{Time:}             &     12:38:57     & \\textbf{  Log-Likelihood:    } &   -1619.4   \\\\\n\\textbf{No. Observations:} &         598      & \\textbf{  AIC:               } &     3243.   \\\\\n\\textbf{Df Residuals:}     &         596      & \\textbf{  BIC:               } &     3252.   \\\\\n\\textbf{Df Model:}         &           1      & \\textbf{                     } &             \\\\\n\\textbf{Covariance Type:}  &    nonrobust     & \\textbf{                     } &             \\\\\n\\bottomrule\n\\end{tabular}\n\\begin{tabular}{lcccccc}\n               & \\textbf{coef} & \\textbf{std err} & \\textbf{t} & \\textbf{P$> |$t$|$} & \\textbf{[0.025} & \\textbf{0.975]}  \\\\\n\\midrule\n\\textbf{const} &      28.3185  &        0.299     &    94.810  &         0.000        &       27.732    &       28.905     \\\\\n\\textbf{0}     &       0.0106  &        0.012     &     0.849  &         0.396        &       -0.014    &        0.035     \\\\\n\\bottomrule\n\\end{tabular}\n\\begin{tabular}{lclc}\n\\textbf{Omnibus:}       &  1.919 & \\textbf{  Durbin-Watson:     } &    2.060  \\\\\n\\textbf{Prob(Omnibus):} &  0.383 & \\textbf{  Jarque-Bera (JB):  } &    1.738  \\\\\n\\textbf{Skew:}          & -0.120 & \\textbf{  Prob(JB):          } &    0.419  \\\\\n\\textbf{Kurtosis:}      &  3.110 & \\textbf{  Cond. No.          } &     48.1  \\\\\n\\bottomrule\n\\end{tabular}\n%\\caption{OLS Regression Results}\n\\end{center}\n\nNotes: \\newline\n [1] Standard Errors assume that the covariance matrix of the errors is correctly specified."
     },
     "execution_count": 7,
     "metadata": {},
     "output_type": "execute_result"
    }
   ],
   "source": [
    "simple_ols(moral, 'moral_score', \"self_agr_total\")"
   ],
   "metadata": {
    "collapsed": false,
    "ExecuteTime": {
     "end_time": "2024-02-21T18:38:57.413511Z",
     "start_time": "2024-02-21T18:38:57.400447Z"
    }
   },
   "id": "b9a8fc0d6f189248",
   "execution_count": 7
  },
  {
   "cell_type": "code",
   "outputs": [
    {
     "data": {
      "text/plain": "<class 'statsmodels.iolib.summary.Summary'>\n\"\"\"\n                            OLS Regression Results                            \n==============================================================================\nDep. Variable:            moral_score   R-squared:                       0.004\nModel:                            OLS   Adj. R-squared:                  0.002\nMethod:                 Least Squares   F-statistic:                     2.337\nDate:                Wed, 21 Feb 2024   Prob (F-statistic):              0.127\nTime:                        12:38:57   Log-Likelihood:                -1618.6\nNo. Observations:                 598   AIC:                             3241.\nDf Residuals:                     596   BIC:                             3250.\nDf Model:                           1                                         \nCovariance Type:            nonrobust                                         \n==============================================================================\n                 coef    std err          t      P>|t|      [0.025      0.975]\n------------------------------------------------------------------------------\nconst         28.1498      0.294     95.616      0.000      27.572      28.728\n0              0.0201      0.013      1.529      0.127      -0.006       0.046\n==============================================================================\nOmnibus:                        2.536   Durbin-Watson:                   2.059\nProb(Omnibus):                  0.281   Jarque-Bera (JB):                2.335\nSkew:                          -0.133   Prob(JB):                        0.311\nKurtosis:                       3.152   Cond. No.                         44.5\n==============================================================================\n\nNotes:\n[1] Standard Errors assume that the covariance matrix of the errors is correctly specified.\n\"\"\"",
      "text/html": "<table class=\"simpletable\">\n<caption>OLS Regression Results</caption>\n<tr>\n  <th>Dep. Variable:</th>       <td>moral_score</td>   <th>  R-squared:         </th> <td>   0.004</td>\n</tr>\n<tr>\n  <th>Model:</th>                   <td>OLS</td>       <th>  Adj. R-squared:    </th> <td>   0.002</td>\n</tr>\n<tr>\n  <th>Method:</th>             <td>Least Squares</td>  <th>  F-statistic:       </th> <td>   2.337</td>\n</tr>\n<tr>\n  <th>Date:</th>             <td>Wed, 21 Feb 2024</td> <th>  Prob (F-statistic):</th>  <td> 0.127</td> \n</tr>\n<tr>\n  <th>Time:</th>                 <td>12:38:57</td>     <th>  Log-Likelihood:    </th> <td> -1618.6</td>\n</tr>\n<tr>\n  <th>No. Observations:</th>      <td>   598</td>      <th>  AIC:               </th> <td>   3241.</td>\n</tr>\n<tr>\n  <th>Df Residuals:</th>          <td>   596</td>      <th>  BIC:               </th> <td>   3250.</td>\n</tr>\n<tr>\n  <th>Df Model:</th>              <td>     1</td>      <th>                     </th>     <td> </td>   \n</tr>\n<tr>\n  <th>Covariance Type:</th>      <td>nonrobust</td>    <th>                     </th>     <td> </td>   \n</tr>\n</table>\n<table class=\"simpletable\">\n<tr>\n    <td></td>       <th>coef</th>     <th>std err</th>      <th>t</th>      <th>P>|t|</th>  <th>[0.025</th>    <th>0.975]</th>  \n</tr>\n<tr>\n  <th>const</th> <td>   28.1498</td> <td>    0.294</td> <td>   95.616</td> <td> 0.000</td> <td>   27.572</td> <td>   28.728</td>\n</tr>\n<tr>\n  <th>0</th>     <td>    0.0201</td> <td>    0.013</td> <td>    1.529</td> <td> 0.127</td> <td>   -0.006</td> <td>    0.046</td>\n</tr>\n</table>\n<table class=\"simpletable\">\n<tr>\n  <th>Omnibus:</th>       <td> 2.536</td> <th>  Durbin-Watson:     </th> <td>   2.059</td>\n</tr>\n<tr>\n  <th>Prob(Omnibus):</th> <td> 0.281</td> <th>  Jarque-Bera (JB):  </th> <td>   2.335</td>\n</tr>\n<tr>\n  <th>Skew:</th>          <td>-0.133</td> <th>  Prob(JB):          </th> <td>   0.311</td>\n</tr>\n<tr>\n  <th>Kurtosis:</th>      <td> 3.152</td> <th>  Cond. No.          </th> <td>    44.5</td>\n</tr>\n</table><br/><br/>Notes:<br/>[1] Standard Errors assume that the covariance matrix of the errors is correctly specified.",
      "text/latex": "\\begin{center}\n\\begin{tabular}{lclc}\n\\toprule\n\\textbf{Dep. Variable:}    &   moral\\_score   & \\textbf{  R-squared:         } &     0.004   \\\\\n\\textbf{Model:}            &       OLS        & \\textbf{  Adj. R-squared:    } &     0.002   \\\\\n\\textbf{Method:}           &  Least Squares   & \\textbf{  F-statistic:       } &     2.337   \\\\\n\\textbf{Date:}             & Wed, 21 Feb 2024 & \\textbf{  Prob (F-statistic):} &    0.127    \\\\\n\\textbf{Time:}             &     12:38:57     & \\textbf{  Log-Likelihood:    } &   -1618.6   \\\\\n\\textbf{No. Observations:} &         598      & \\textbf{  AIC:               } &     3241.   \\\\\n\\textbf{Df Residuals:}     &         596      & \\textbf{  BIC:               } &     3250.   \\\\\n\\textbf{Df Model:}         &           1      & \\textbf{                     } &             \\\\\n\\textbf{Covariance Type:}  &    nonrobust     & \\textbf{                     } &             \\\\\n\\bottomrule\n\\end{tabular}\n\\begin{tabular}{lcccccc}\n               & \\textbf{coef} & \\textbf{std err} & \\textbf{t} & \\textbf{P$> |$t$|$} & \\textbf{[0.025} & \\textbf{0.975]}  \\\\\n\\midrule\n\\textbf{const} &      28.1498  &        0.294     &    95.616  &         0.000        &       27.572    &       28.728     \\\\\n\\textbf{0}     &       0.0201  &        0.013     &     1.529  &         0.127        &       -0.006    &        0.046     \\\\\n\\bottomrule\n\\end{tabular}\n\\begin{tabular}{lclc}\n\\textbf{Omnibus:}       &  2.536 & \\textbf{  Durbin-Watson:     } &    2.059  \\\\\n\\textbf{Prob(Omnibus):} &  0.281 & \\textbf{  Jarque-Bera (JB):  } &    2.335  \\\\\n\\textbf{Skew:}          & -0.133 & \\textbf{  Prob(JB):          } &    0.311  \\\\\n\\textbf{Kurtosis:}      &  3.152 & \\textbf{  Cond. No.          } &     44.5  \\\\\n\\bottomrule\n\\end{tabular}\n%\\caption{OLS Regression Results}\n\\end{center}\n\nNotes: \\newline\n [1] Standard Errors assume that the covariance matrix of the errors is correctly specified."
     },
     "execution_count": 8,
     "metadata": {},
     "output_type": "execute_result"
    }
   ],
   "source": [
    "simple_ols(moral, 'moral_score', \"self_con_total\")"
   ],
   "metadata": {
    "collapsed": false,
    "ExecuteTime": {
     "end_time": "2024-02-21T18:38:57.461143Z",
     "start_time": "2024-02-21T18:38:57.414170Z"
    }
   },
   "id": "6f31290083fffee6",
   "execution_count": 8
  },
  {
   "cell_type": "code",
   "outputs": [
    {
     "data": {
      "text/plain": "<class 'statsmodels.iolib.summary.Summary'>\n\"\"\"\n                            OLS Regression Results                            \n==============================================================================\nDep. Variable:            moral_score   R-squared:                       0.000\nModel:                            OLS   Adj. R-squared:                 -0.002\nMethod:                 Least Squares   F-statistic:                   0.07408\nDate:                Wed, 21 Feb 2024   Prob (F-statistic):              0.786\nTime:                        12:38:57   Log-Likelihood:                -1619.7\nNo. Observations:                 598   AIC:                             3243.\nDf Residuals:                     596   BIC:                             3252.\nDf Model:                           1                                         \nCovariance Type:            nonrobust                                         \n==============================================================================\n                 coef    std err          t      P>|t|      [0.025      0.975]\n------------------------------------------------------------------------------\nconst         28.6050      0.286     99.931      0.000      28.043      29.167\n0             -0.0041      0.015     -0.272      0.786      -0.033       0.025\n==============================================================================\nOmnibus:                        1.500   Durbin-Watson:                   2.057\nProb(Omnibus):                  0.472   Jarque-Bera (JB):                1.351\nSkew:                          -0.110   Prob(JB):                        0.509\nKurtosis:                       3.079   Cond. No.                         37.0\n==============================================================================\n\nNotes:\n[1] Standard Errors assume that the covariance matrix of the errors is correctly specified.\n\"\"\"",
      "text/html": "<table class=\"simpletable\">\n<caption>OLS Regression Results</caption>\n<tr>\n  <th>Dep. Variable:</th>       <td>moral_score</td>   <th>  R-squared:         </th> <td>   0.000</td>\n</tr>\n<tr>\n  <th>Model:</th>                   <td>OLS</td>       <th>  Adj. R-squared:    </th> <td>  -0.002</td>\n</tr>\n<tr>\n  <th>Method:</th>             <td>Least Squares</td>  <th>  F-statistic:       </th> <td> 0.07408</td>\n</tr>\n<tr>\n  <th>Date:</th>             <td>Wed, 21 Feb 2024</td> <th>  Prob (F-statistic):</th>  <td> 0.786</td> \n</tr>\n<tr>\n  <th>Time:</th>                 <td>12:38:57</td>     <th>  Log-Likelihood:    </th> <td> -1619.7</td>\n</tr>\n<tr>\n  <th>No. Observations:</th>      <td>   598</td>      <th>  AIC:               </th> <td>   3243.</td>\n</tr>\n<tr>\n  <th>Df Residuals:</th>          <td>   596</td>      <th>  BIC:               </th> <td>   3252.</td>\n</tr>\n<tr>\n  <th>Df Model:</th>              <td>     1</td>      <th>                     </th>     <td> </td>   \n</tr>\n<tr>\n  <th>Covariance Type:</th>      <td>nonrobust</td>    <th>                     </th>     <td> </td>   \n</tr>\n</table>\n<table class=\"simpletable\">\n<tr>\n    <td></td>       <th>coef</th>     <th>std err</th>      <th>t</th>      <th>P>|t|</th>  <th>[0.025</th>    <th>0.975]</th>  \n</tr>\n<tr>\n  <th>const</th> <td>   28.6050</td> <td>    0.286</td> <td>   99.931</td> <td> 0.000</td> <td>   28.043</td> <td>   29.167</td>\n</tr>\n<tr>\n  <th>0</th>     <td>   -0.0041</td> <td>    0.015</td> <td>   -0.272</td> <td> 0.786</td> <td>   -0.033</td> <td>    0.025</td>\n</tr>\n</table>\n<table class=\"simpletable\">\n<tr>\n  <th>Omnibus:</th>       <td> 1.500</td> <th>  Durbin-Watson:     </th> <td>   2.057</td>\n</tr>\n<tr>\n  <th>Prob(Omnibus):</th> <td> 0.472</td> <th>  Jarque-Bera (JB):  </th> <td>   1.351</td>\n</tr>\n<tr>\n  <th>Skew:</th>          <td>-0.110</td> <th>  Prob(JB):          </th> <td>   0.509</td>\n</tr>\n<tr>\n  <th>Kurtosis:</th>      <td> 3.079</td> <th>  Cond. No.          </th> <td>    37.0</td>\n</tr>\n</table><br/><br/>Notes:<br/>[1] Standard Errors assume that the covariance matrix of the errors is correctly specified.",
      "text/latex": "\\begin{center}\n\\begin{tabular}{lclc}\n\\toprule\n\\textbf{Dep. Variable:}    &   moral\\_score   & \\textbf{  R-squared:         } &     0.000   \\\\\n\\textbf{Model:}            &       OLS        & \\textbf{  Adj. R-squared:    } &    -0.002   \\\\\n\\textbf{Method:}           &  Least Squares   & \\textbf{  F-statistic:       } &   0.07408   \\\\\n\\textbf{Date:}             & Wed, 21 Feb 2024 & \\textbf{  Prob (F-statistic):} &    0.786    \\\\\n\\textbf{Time:}             &     12:38:57     & \\textbf{  Log-Likelihood:    } &   -1619.7   \\\\\n\\textbf{No. Observations:} &         598      & \\textbf{  AIC:               } &     3243.   \\\\\n\\textbf{Df Residuals:}     &         596      & \\textbf{  BIC:               } &     3252.   \\\\\n\\textbf{Df Model:}         &           1      & \\textbf{                     } &             \\\\\n\\textbf{Covariance Type:}  &    nonrobust     & \\textbf{                     } &             \\\\\n\\bottomrule\n\\end{tabular}\n\\begin{tabular}{lcccccc}\n               & \\textbf{coef} & \\textbf{std err} & \\textbf{t} & \\textbf{P$> |$t$|$} & \\textbf{[0.025} & \\textbf{0.975]}  \\\\\n\\midrule\n\\textbf{const} &      28.6050  &        0.286     &    99.931  &         0.000        &       28.043    &       29.167     \\\\\n\\textbf{0}     &      -0.0041  &        0.015     &    -0.272  &         0.786        &       -0.033    &        0.025     \\\\\n\\bottomrule\n\\end{tabular}\n\\begin{tabular}{lclc}\n\\textbf{Omnibus:}       &  1.500 & \\textbf{  Durbin-Watson:     } &    2.057  \\\\\n\\textbf{Prob(Omnibus):} &  0.472 & \\textbf{  Jarque-Bera (JB):  } &    1.351  \\\\\n\\textbf{Skew:}          & -0.110 & \\textbf{  Prob(JB):          } &    0.509  \\\\\n\\textbf{Kurtosis:}      &  3.079 & \\textbf{  Cond. No.          } &     37.0  \\\\\n\\bottomrule\n\\end{tabular}\n%\\caption{OLS Regression Results}\n\\end{center}\n\nNotes: \\newline\n [1] Standard Errors assume that the covariance matrix of the errors is correctly specified."
     },
     "execution_count": 9,
     "metadata": {},
     "output_type": "execute_result"
    }
   ],
   "source": [
    "simple_ols(moral, 'moral_score', \"self_neu_total\")"
   ],
   "metadata": {
    "collapsed": false,
    "ExecuteTime": {
     "end_time": "2024-02-21T18:38:57.478366Z",
     "start_time": "2024-02-21T18:38:57.424741Z"
    }
   },
   "id": "f22940fe5e219867",
   "execution_count": 9
  },
  {
   "cell_type": "code",
   "outputs": [
    {
     "data": {
      "text/plain": "<class 'statsmodels.iolib.summary.Summary'>\n\"\"\"\n                            OLS Regression Results                            \n==============================================================================\nDep. Variable:            moral_score   R-squared:                       0.001\nModel:                            OLS   Adj. R-squared:                 -0.000\nMethod:                 Least Squares   F-statistic:                    0.8858\nDate:                Wed, 21 Feb 2024   Prob (F-statistic):              0.347\nTime:                        12:38:57   Log-Likelihood:                -1619.3\nNo. Observations:                 598   AIC:                             3243.\nDf Residuals:                     596   BIC:                             3251.\nDf Model:                           1                                         \nCovariance Type:            nonrobust                                         \n==============================================================================\n                 coef    std err          t      P>|t|      [0.025      0.975]\n------------------------------------------------------------------------------\nconst         28.3010      0.293     96.659      0.000      27.726      28.876\n0              0.0123      0.013      0.941      0.347      -0.013       0.038\n==============================================================================\nOmnibus:                        1.902   Durbin-Watson:                   2.060\nProb(Omnibus):                  0.386   Jarque-Bera (JB):                1.724\nSkew:                          -0.120   Prob(JB):                        0.422\nKurtosis:                       3.106   Cond. No.                         44.0\n==============================================================================\n\nNotes:\n[1] Standard Errors assume that the covariance matrix of the errors is correctly specified.\n\"\"\"",
      "text/html": "<table class=\"simpletable\">\n<caption>OLS Regression Results</caption>\n<tr>\n  <th>Dep. Variable:</th>       <td>moral_score</td>   <th>  R-squared:         </th> <td>   0.001</td>\n</tr>\n<tr>\n  <th>Model:</th>                   <td>OLS</td>       <th>  Adj. R-squared:    </th> <td>  -0.000</td>\n</tr>\n<tr>\n  <th>Method:</th>             <td>Least Squares</td>  <th>  F-statistic:       </th> <td>  0.8858</td>\n</tr>\n<tr>\n  <th>Date:</th>             <td>Wed, 21 Feb 2024</td> <th>  Prob (F-statistic):</th>  <td> 0.347</td> \n</tr>\n<tr>\n  <th>Time:</th>                 <td>12:38:57</td>     <th>  Log-Likelihood:    </th> <td> -1619.3</td>\n</tr>\n<tr>\n  <th>No. Observations:</th>      <td>   598</td>      <th>  AIC:               </th> <td>   3243.</td>\n</tr>\n<tr>\n  <th>Df Residuals:</th>          <td>   596</td>      <th>  BIC:               </th> <td>   3251.</td>\n</tr>\n<tr>\n  <th>Df Model:</th>              <td>     1</td>      <th>                     </th>     <td> </td>   \n</tr>\n<tr>\n  <th>Covariance Type:</th>      <td>nonrobust</td>    <th>                     </th>     <td> </td>   \n</tr>\n</table>\n<table class=\"simpletable\">\n<tr>\n    <td></td>       <th>coef</th>     <th>std err</th>      <th>t</th>      <th>P>|t|</th>  <th>[0.025</th>    <th>0.975]</th>  \n</tr>\n<tr>\n  <th>const</th> <td>   28.3010</td> <td>    0.293</td> <td>   96.659</td> <td> 0.000</td> <td>   27.726</td> <td>   28.876</td>\n</tr>\n<tr>\n  <th>0</th>     <td>    0.0123</td> <td>    0.013</td> <td>    0.941</td> <td> 0.347</td> <td>   -0.013</td> <td>    0.038</td>\n</tr>\n</table>\n<table class=\"simpletable\">\n<tr>\n  <th>Omnibus:</th>       <td> 1.902</td> <th>  Durbin-Watson:     </th> <td>   2.060</td>\n</tr>\n<tr>\n  <th>Prob(Omnibus):</th> <td> 0.386</td> <th>  Jarque-Bera (JB):  </th> <td>   1.724</td>\n</tr>\n<tr>\n  <th>Skew:</th>          <td>-0.120</td> <th>  Prob(JB):          </th> <td>   0.422</td>\n</tr>\n<tr>\n  <th>Kurtosis:</th>      <td> 3.106</td> <th>  Cond. No.          </th> <td>    44.0</td>\n</tr>\n</table><br/><br/>Notes:<br/>[1] Standard Errors assume that the covariance matrix of the errors is correctly specified.",
      "text/latex": "\\begin{center}\n\\begin{tabular}{lclc}\n\\toprule\n\\textbf{Dep. Variable:}    &   moral\\_score   & \\textbf{  R-squared:         } &     0.001   \\\\\n\\textbf{Model:}            &       OLS        & \\textbf{  Adj. R-squared:    } &    -0.000   \\\\\n\\textbf{Method:}           &  Least Squares   & \\textbf{  F-statistic:       } &    0.8858   \\\\\n\\textbf{Date:}             & Wed, 21 Feb 2024 & \\textbf{  Prob (F-statistic):} &    0.347    \\\\\n\\textbf{Time:}             &     12:38:57     & \\textbf{  Log-Likelihood:    } &   -1619.3   \\\\\n\\textbf{No. Observations:} &         598      & \\textbf{  AIC:               } &     3243.   \\\\\n\\textbf{Df Residuals:}     &         596      & \\textbf{  BIC:               } &     3251.   \\\\\n\\textbf{Df Model:}         &           1      & \\textbf{                     } &             \\\\\n\\textbf{Covariance Type:}  &    nonrobust     & \\textbf{                     } &             \\\\\n\\bottomrule\n\\end{tabular}\n\\begin{tabular}{lcccccc}\n               & \\textbf{coef} & \\textbf{std err} & \\textbf{t} & \\textbf{P$> |$t$|$} & \\textbf{[0.025} & \\textbf{0.975]}  \\\\\n\\midrule\n\\textbf{const} &      28.3010  &        0.293     &    96.659  &         0.000        &       27.726    &       28.876     \\\\\n\\textbf{0}     &       0.0123  &        0.013     &     0.941  &         0.347        &       -0.013    &        0.038     \\\\\n\\bottomrule\n\\end{tabular}\n\\begin{tabular}{lclc}\n\\textbf{Omnibus:}       &  1.902 & \\textbf{  Durbin-Watson:     } &    2.060  \\\\\n\\textbf{Prob(Omnibus):} &  0.386 & \\textbf{  Jarque-Bera (JB):  } &    1.724  \\\\\n\\textbf{Skew:}          & -0.120 & \\textbf{  Prob(JB):          } &    0.422  \\\\\n\\textbf{Kurtosis:}      &  3.106 & \\textbf{  Cond. No.          } &     44.0  \\\\\n\\bottomrule\n\\end{tabular}\n%\\caption{OLS Regression Results}\n\\end{center}\n\nNotes: \\newline\n [1] Standard Errors assume that the covariance matrix of the errors is correctly specified."
     },
     "execution_count": 10,
     "metadata": {},
     "output_type": "execute_result"
    }
   ],
   "source": [
    "simple_ols(moral, 'moral_score', \"self_ope_total\")"
   ],
   "metadata": {
    "collapsed": false,
    "ExecuteTime": {
     "end_time": "2024-02-21T18:38:57.510861Z",
     "start_time": "2024-02-21T18:38:57.438072Z"
    }
   },
   "id": "d8678403af276630",
   "execution_count": 10
  },
  {
   "cell_type": "markdown",
   "source": [
    "# Examine Risk Stories"
   ],
   "metadata": {
    "collapsed": false
   },
   "id": "6eef7db18cd695e7"
  },
  {
   "cell_type": "markdown",
   "source": [
    "## Risk Stories 0.2"
   ],
   "metadata": {
    "collapsed": false
   },
   "id": "25b2ba6d157cf84c"
  },
  {
   "cell_type": "code",
   "outputs": [
    {
     "data": {
      "text/plain": "<class 'statsmodels.iolib.summary.Summary'>\n\"\"\"\n                            OLS Regression Results                            \n==============================================================================\nDep. Variable:             risk_score   R-squared:                       0.016\nModel:                            OLS   Adj. R-squared:                  0.015\nMethod:                 Least Squares   F-statistic:                     9.908\nDate:                Wed, 21 Feb 2024   Prob (F-statistic):            0.00173\nTime:                        12:38:57   Log-Likelihood:                -1692.6\nNo. Observations:                 598   AIC:                             3389.\nDf Residuals:                     596   BIC:                             3398.\nDf Model:                           1                                         \nCovariance Type:            nonrobust                                         \n==============================================================================\n                 coef    std err          t      P>|t|      [0.025      0.975]\n------------------------------------------------------------------------------\nconst         27.2905      0.330     82.690      0.000      26.642      27.939\n0             -0.0517      0.016     -3.148      0.002      -0.084      -0.019\n==============================================================================\nOmnibus:                      215.164   Durbin-Watson:                   1.955\nProb(Omnibus):                  0.000   Jarque-Bera (JB):              854.598\nSkew:                           1.627   Prob(JB):                    2.67e-186\nKurtosis:                       7.869   Cond. No.                         39.5\n==============================================================================\n\nNotes:\n[1] Standard Errors assume that the covariance matrix of the errors is correctly specified.\n\"\"\"",
      "text/html": "<table class=\"simpletable\">\n<caption>OLS Regression Results</caption>\n<tr>\n  <th>Dep. Variable:</th>       <td>risk_score</td>    <th>  R-squared:         </th> <td>   0.016</td>\n</tr>\n<tr>\n  <th>Model:</th>                   <td>OLS</td>       <th>  Adj. R-squared:    </th> <td>   0.015</td>\n</tr>\n<tr>\n  <th>Method:</th>             <td>Least Squares</td>  <th>  F-statistic:       </th> <td>   9.908</td>\n</tr>\n<tr>\n  <th>Date:</th>             <td>Wed, 21 Feb 2024</td> <th>  Prob (F-statistic):</th>  <td>0.00173</td>\n</tr>\n<tr>\n  <th>Time:</th>                 <td>12:38:57</td>     <th>  Log-Likelihood:    </th> <td> -1692.6</td>\n</tr>\n<tr>\n  <th>No. Observations:</th>      <td>   598</td>      <th>  AIC:               </th> <td>   3389.</td>\n</tr>\n<tr>\n  <th>Df Residuals:</th>          <td>   596</td>      <th>  BIC:               </th> <td>   3398.</td>\n</tr>\n<tr>\n  <th>Df Model:</th>              <td>     1</td>      <th>                     </th>     <td> </td>   \n</tr>\n<tr>\n  <th>Covariance Type:</th>      <td>nonrobust</td>    <th>                     </th>     <td> </td>   \n</tr>\n</table>\n<table class=\"simpletable\">\n<tr>\n    <td></td>       <th>coef</th>     <th>std err</th>      <th>t</th>      <th>P>|t|</th>  <th>[0.025</th>    <th>0.975]</th>  \n</tr>\n<tr>\n  <th>const</th> <td>   27.2905</td> <td>    0.330</td> <td>   82.690</td> <td> 0.000</td> <td>   26.642</td> <td>   27.939</td>\n</tr>\n<tr>\n  <th>0</th>     <td>   -0.0517</td> <td>    0.016</td> <td>   -3.148</td> <td> 0.002</td> <td>   -0.084</td> <td>   -0.019</td>\n</tr>\n</table>\n<table class=\"simpletable\">\n<tr>\n  <th>Omnibus:</th>       <td>215.164</td> <th>  Durbin-Watson:     </th> <td>   1.955</td> \n</tr>\n<tr>\n  <th>Prob(Omnibus):</th> <td> 0.000</td>  <th>  Jarque-Bera (JB):  </th> <td> 854.598</td> \n</tr>\n<tr>\n  <th>Skew:</th>          <td> 1.627</td>  <th>  Prob(JB):          </th> <td>2.67e-186</td>\n</tr>\n<tr>\n  <th>Kurtosis:</th>      <td> 7.869</td>  <th>  Cond. No.          </th> <td>    39.5</td> \n</tr>\n</table><br/><br/>Notes:<br/>[1] Standard Errors assume that the covariance matrix of the errors is correctly specified.",
      "text/latex": "\\begin{center}\n\\begin{tabular}{lclc}\n\\toprule\n\\textbf{Dep. Variable:}    &   risk\\_score    & \\textbf{  R-squared:         } &     0.016   \\\\\n\\textbf{Model:}            &       OLS        & \\textbf{  Adj. R-squared:    } &     0.015   \\\\\n\\textbf{Method:}           &  Least Squares   & \\textbf{  F-statistic:       } &     9.908   \\\\\n\\textbf{Date:}             & Wed, 21 Feb 2024 & \\textbf{  Prob (F-statistic):} &  0.00173    \\\\\n\\textbf{Time:}             &     12:38:57     & \\textbf{  Log-Likelihood:    } &   -1692.6   \\\\\n\\textbf{No. Observations:} &         598      & \\textbf{  AIC:               } &     3389.   \\\\\n\\textbf{Df Residuals:}     &         596      & \\textbf{  BIC:               } &     3398.   \\\\\n\\textbf{Df Model:}         &           1      & \\textbf{                     } &             \\\\\n\\textbf{Covariance Type:}  &    nonrobust     & \\textbf{                     } &             \\\\\n\\bottomrule\n\\end{tabular}\n\\begin{tabular}{lcccccc}\n               & \\textbf{coef} & \\textbf{std err} & \\textbf{t} & \\textbf{P$> |$t$|$} & \\textbf{[0.025} & \\textbf{0.975]}  \\\\\n\\midrule\n\\textbf{const} &      27.2905  &        0.330     &    82.690  &         0.000        &       26.642    &       27.939     \\\\\n\\textbf{0}     &      -0.0517  &        0.016     &    -3.148  &         0.002        &       -0.084    &       -0.019     \\\\\n\\bottomrule\n\\end{tabular}\n\\begin{tabular}{lclc}\n\\textbf{Omnibus:}       & 215.164 & \\textbf{  Durbin-Watson:     } &     1.955  \\\\\n\\textbf{Prob(Omnibus):} &   0.000 & \\textbf{  Jarque-Bera (JB):  } &   854.598  \\\\\n\\textbf{Skew:}          &   1.627 & \\textbf{  Prob(JB):          } & 2.67e-186  \\\\\n\\textbf{Kurtosis:}      &   7.869 & \\textbf{  Cond. No.          } &      39.5  \\\\\n\\bottomrule\n\\end{tabular}\n%\\caption{OLS Regression Results}\n\\end{center}\n\nNotes: \\newline\n [1] Standard Errors assume that the covariance matrix of the errors is correctly specified."
     },
     "execution_count": 11,
     "metadata": {},
     "output_type": "execute_result"
    }
   ],
   "source": [
    "simple_ols(risk, 'risk_score', \"self_ext_total\")"
   ],
   "metadata": {
    "collapsed": false,
    "ExecuteTime": {
     "end_time": "2024-02-21T18:38:57.523876Z",
     "start_time": "2024-02-21T18:38:57.449681Z"
    }
   },
   "id": "1eabe9e73d73b8d3",
   "execution_count": 11
  },
  {
   "cell_type": "code",
   "outputs": [
    {
     "data": {
      "text/plain": "<class 'statsmodels.iolib.summary.Summary'>\n\"\"\"\n                            OLS Regression Results                            \n==============================================================================\nDep. Variable:             risk_score   R-squared:                       0.000\nModel:                            OLS   Adj. R-squared:                 -0.002\nMethod:                 Least Squares   F-statistic:                   0.02631\nDate:                Wed, 21 Feb 2024   Prob (F-statistic):              0.871\nTime:                        12:38:57   Log-Likelihood:                -1697.5\nNo. Observations:                 598   AIC:                             3399.\nDf Residuals:                     596   BIC:                             3408.\nDf Model:                           1                                         \nCovariance Type:            nonrobust                                         \n==============================================================================\n                 coef    std err          t      P>|t|      [0.025      0.975]\n------------------------------------------------------------------------------\nconst         26.4442      0.340     77.694      0.000      25.776      27.113\n0             -0.0023      0.014     -0.162      0.871      -0.030       0.026\n==============================================================================\nOmnibus:                      222.001   Durbin-Watson:                   1.999\nProb(Omnibus):                  0.000   Jarque-Bera (JB):              921.157\nSkew:                           1.667   Prob(JB):                    9.41e-201\nKurtosis:                       8.085   Cond. No.                         48.1\n==============================================================================\n\nNotes:\n[1] Standard Errors assume that the covariance matrix of the errors is correctly specified.\n\"\"\"",
      "text/html": "<table class=\"simpletable\">\n<caption>OLS Regression Results</caption>\n<tr>\n  <th>Dep. Variable:</th>       <td>risk_score</td>    <th>  R-squared:         </th> <td>   0.000</td>\n</tr>\n<tr>\n  <th>Model:</th>                   <td>OLS</td>       <th>  Adj. R-squared:    </th> <td>  -0.002</td>\n</tr>\n<tr>\n  <th>Method:</th>             <td>Least Squares</td>  <th>  F-statistic:       </th> <td> 0.02631</td>\n</tr>\n<tr>\n  <th>Date:</th>             <td>Wed, 21 Feb 2024</td> <th>  Prob (F-statistic):</th>  <td> 0.871</td> \n</tr>\n<tr>\n  <th>Time:</th>                 <td>12:38:57</td>     <th>  Log-Likelihood:    </th> <td> -1697.5</td>\n</tr>\n<tr>\n  <th>No. Observations:</th>      <td>   598</td>      <th>  AIC:               </th> <td>   3399.</td>\n</tr>\n<tr>\n  <th>Df Residuals:</th>          <td>   596</td>      <th>  BIC:               </th> <td>   3408.</td>\n</tr>\n<tr>\n  <th>Df Model:</th>              <td>     1</td>      <th>                     </th>     <td> </td>   \n</tr>\n<tr>\n  <th>Covariance Type:</th>      <td>nonrobust</td>    <th>                     </th>     <td> </td>   \n</tr>\n</table>\n<table class=\"simpletable\">\n<tr>\n    <td></td>       <th>coef</th>     <th>std err</th>      <th>t</th>      <th>P>|t|</th>  <th>[0.025</th>    <th>0.975]</th>  \n</tr>\n<tr>\n  <th>const</th> <td>   26.4442</td> <td>    0.340</td> <td>   77.694</td> <td> 0.000</td> <td>   25.776</td> <td>   27.113</td>\n</tr>\n<tr>\n  <th>0</th>     <td>   -0.0023</td> <td>    0.014</td> <td>   -0.162</td> <td> 0.871</td> <td>   -0.030</td> <td>    0.026</td>\n</tr>\n</table>\n<table class=\"simpletable\">\n<tr>\n  <th>Omnibus:</th>       <td>222.001</td> <th>  Durbin-Watson:     </th> <td>   1.999</td> \n</tr>\n<tr>\n  <th>Prob(Omnibus):</th> <td> 0.000</td>  <th>  Jarque-Bera (JB):  </th> <td> 921.157</td> \n</tr>\n<tr>\n  <th>Skew:</th>          <td> 1.667</td>  <th>  Prob(JB):          </th> <td>9.41e-201</td>\n</tr>\n<tr>\n  <th>Kurtosis:</th>      <td> 8.085</td>  <th>  Cond. No.          </th> <td>    48.1</td> \n</tr>\n</table><br/><br/>Notes:<br/>[1] Standard Errors assume that the covariance matrix of the errors is correctly specified.",
      "text/latex": "\\begin{center}\n\\begin{tabular}{lclc}\n\\toprule\n\\textbf{Dep. Variable:}    &   risk\\_score    & \\textbf{  R-squared:         } &     0.000   \\\\\n\\textbf{Model:}            &       OLS        & \\textbf{  Adj. R-squared:    } &    -0.002   \\\\\n\\textbf{Method:}           &  Least Squares   & \\textbf{  F-statistic:       } &   0.02631   \\\\\n\\textbf{Date:}             & Wed, 21 Feb 2024 & \\textbf{  Prob (F-statistic):} &    0.871    \\\\\n\\textbf{Time:}             &     12:38:57     & \\textbf{  Log-Likelihood:    } &   -1697.5   \\\\\n\\textbf{No. Observations:} &         598      & \\textbf{  AIC:               } &     3399.   \\\\\n\\textbf{Df Residuals:}     &         596      & \\textbf{  BIC:               } &     3408.   \\\\\n\\textbf{Df Model:}         &           1      & \\textbf{                     } &             \\\\\n\\textbf{Covariance Type:}  &    nonrobust     & \\textbf{                     } &             \\\\\n\\bottomrule\n\\end{tabular}\n\\begin{tabular}{lcccccc}\n               & \\textbf{coef} & \\textbf{std err} & \\textbf{t} & \\textbf{P$> |$t$|$} & \\textbf{[0.025} & \\textbf{0.975]}  \\\\\n\\midrule\n\\textbf{const} &      26.4442  &        0.340     &    77.694  &         0.000        &       25.776    &       27.113     \\\\\n\\textbf{0}     &      -0.0023  &        0.014     &    -0.162  &         0.871        &       -0.030    &        0.026     \\\\\n\\bottomrule\n\\end{tabular}\n\\begin{tabular}{lclc}\n\\textbf{Omnibus:}       & 222.001 & \\textbf{  Durbin-Watson:     } &     1.999  \\\\\n\\textbf{Prob(Omnibus):} &   0.000 & \\textbf{  Jarque-Bera (JB):  } &   921.157  \\\\\n\\textbf{Skew:}          &   1.667 & \\textbf{  Prob(JB):          } & 9.41e-201  \\\\\n\\textbf{Kurtosis:}      &   8.085 & \\textbf{  Cond. No.          } &      48.1  \\\\\n\\bottomrule\n\\end{tabular}\n%\\caption{OLS Regression Results}\n\\end{center}\n\nNotes: \\newline\n [1] Standard Errors assume that the covariance matrix of the errors is correctly specified."
     },
     "execution_count": 12,
     "metadata": {},
     "output_type": "execute_result"
    }
   ],
   "source": [
    "simple_ols(risk, 'risk_score', \"self_agr_total\")"
   ],
   "metadata": {
    "collapsed": false,
    "ExecuteTime": {
     "end_time": "2024-02-21T18:38:57.525935Z",
     "start_time": "2024-02-21T18:38:57.464744Z"
    }
   },
   "id": "278a81cd11772dde",
   "execution_count": 12
  },
  {
   "cell_type": "code",
   "outputs": [
    {
     "data": {
      "text/plain": "<class 'statsmodels.iolib.summary.Summary'>\n\"\"\"\n                            OLS Regression Results                            \n==============================================================================\nDep. Variable:             risk_score   R-squared:                       0.000\nModel:                            OLS   Adj. R-squared:                 -0.002\nMethod:                 Least Squares   F-statistic:                   0.05380\nDate:                Wed, 21 Feb 2024   Prob (F-statistic):              0.817\nTime:                        12:38:57   Log-Likelihood:                -1697.5\nNo. Observations:                 598   AIC:                             3399.\nDf Residuals:                     596   BIC:                             3408.\nDf Model:                           1                                         \nCovariance Type:            nonrobust                                         \n==============================================================================\n                 coef    std err          t      P>|t|      [0.025      0.975]\n------------------------------------------------------------------------------\nconst         26.4636      0.336     78.777      0.000      25.804      27.123\n0             -0.0035      0.015     -0.232      0.817      -0.033       0.026\n==============================================================================\nOmnibus:                      221.749   Durbin-Watson:                   1.998\nProb(Omnibus):                  0.000   Jarque-Bera (JB):              918.058\nSkew:                           1.666   Prob(JB):                    4.43e-200\nKurtosis:                       8.074   Cond. No.                         44.5\n==============================================================================\n\nNotes:\n[1] Standard Errors assume that the covariance matrix of the errors is correctly specified.\n\"\"\"",
      "text/html": "<table class=\"simpletable\">\n<caption>OLS Regression Results</caption>\n<tr>\n  <th>Dep. Variable:</th>       <td>risk_score</td>    <th>  R-squared:         </th> <td>   0.000</td>\n</tr>\n<tr>\n  <th>Model:</th>                   <td>OLS</td>       <th>  Adj. R-squared:    </th> <td>  -0.002</td>\n</tr>\n<tr>\n  <th>Method:</th>             <td>Least Squares</td>  <th>  F-statistic:       </th> <td> 0.05380</td>\n</tr>\n<tr>\n  <th>Date:</th>             <td>Wed, 21 Feb 2024</td> <th>  Prob (F-statistic):</th>  <td> 0.817</td> \n</tr>\n<tr>\n  <th>Time:</th>                 <td>12:38:57</td>     <th>  Log-Likelihood:    </th> <td> -1697.5</td>\n</tr>\n<tr>\n  <th>No. Observations:</th>      <td>   598</td>      <th>  AIC:               </th> <td>   3399.</td>\n</tr>\n<tr>\n  <th>Df Residuals:</th>          <td>   596</td>      <th>  BIC:               </th> <td>   3408.</td>\n</tr>\n<tr>\n  <th>Df Model:</th>              <td>     1</td>      <th>                     </th>     <td> </td>   \n</tr>\n<tr>\n  <th>Covariance Type:</th>      <td>nonrobust</td>    <th>                     </th>     <td> </td>   \n</tr>\n</table>\n<table class=\"simpletable\">\n<tr>\n    <td></td>       <th>coef</th>     <th>std err</th>      <th>t</th>      <th>P>|t|</th>  <th>[0.025</th>    <th>0.975]</th>  \n</tr>\n<tr>\n  <th>const</th> <td>   26.4636</td> <td>    0.336</td> <td>   78.777</td> <td> 0.000</td> <td>   25.804</td> <td>   27.123</td>\n</tr>\n<tr>\n  <th>0</th>     <td>   -0.0035</td> <td>    0.015</td> <td>   -0.232</td> <td> 0.817</td> <td>   -0.033</td> <td>    0.026</td>\n</tr>\n</table>\n<table class=\"simpletable\">\n<tr>\n  <th>Omnibus:</th>       <td>221.749</td> <th>  Durbin-Watson:     </th> <td>   1.998</td> \n</tr>\n<tr>\n  <th>Prob(Omnibus):</th> <td> 0.000</td>  <th>  Jarque-Bera (JB):  </th> <td> 918.058</td> \n</tr>\n<tr>\n  <th>Skew:</th>          <td> 1.666</td>  <th>  Prob(JB):          </th> <td>4.43e-200</td>\n</tr>\n<tr>\n  <th>Kurtosis:</th>      <td> 8.074</td>  <th>  Cond. No.          </th> <td>    44.5</td> \n</tr>\n</table><br/><br/>Notes:<br/>[1] Standard Errors assume that the covariance matrix of the errors is correctly specified.",
      "text/latex": "\\begin{center}\n\\begin{tabular}{lclc}\n\\toprule\n\\textbf{Dep. Variable:}    &   risk\\_score    & \\textbf{  R-squared:         } &     0.000   \\\\\n\\textbf{Model:}            &       OLS        & \\textbf{  Adj. R-squared:    } &    -0.002   \\\\\n\\textbf{Method:}           &  Least Squares   & \\textbf{  F-statistic:       } &   0.05380   \\\\\n\\textbf{Date:}             & Wed, 21 Feb 2024 & \\textbf{  Prob (F-statistic):} &    0.817    \\\\\n\\textbf{Time:}             &     12:38:57     & \\textbf{  Log-Likelihood:    } &   -1697.5   \\\\\n\\textbf{No. Observations:} &         598      & \\textbf{  AIC:               } &     3399.   \\\\\n\\textbf{Df Residuals:}     &         596      & \\textbf{  BIC:               } &     3408.   \\\\\n\\textbf{Df Model:}         &           1      & \\textbf{                     } &             \\\\\n\\textbf{Covariance Type:}  &    nonrobust     & \\textbf{                     } &             \\\\\n\\bottomrule\n\\end{tabular}\n\\begin{tabular}{lcccccc}\n               & \\textbf{coef} & \\textbf{std err} & \\textbf{t} & \\textbf{P$> |$t$|$} & \\textbf{[0.025} & \\textbf{0.975]}  \\\\\n\\midrule\n\\textbf{const} &      26.4636  &        0.336     &    78.777  &         0.000        &       25.804    &       27.123     \\\\\n\\textbf{0}     &      -0.0035  &        0.015     &    -0.232  &         0.817        &       -0.033    &        0.026     \\\\\n\\bottomrule\n\\end{tabular}\n\\begin{tabular}{lclc}\n\\textbf{Omnibus:}       & 221.749 & \\textbf{  Durbin-Watson:     } &     1.998  \\\\\n\\textbf{Prob(Omnibus):} &   0.000 & \\textbf{  Jarque-Bera (JB):  } &   918.058  \\\\\n\\textbf{Skew:}          &   1.666 & \\textbf{  Prob(JB):          } & 4.43e-200  \\\\\n\\textbf{Kurtosis:}      &   8.074 & \\textbf{  Cond. No.          } &      44.5  \\\\\n\\bottomrule\n\\end{tabular}\n%\\caption{OLS Regression Results}\n\\end{center}\n\nNotes: \\newline\n [1] Standard Errors assume that the covariance matrix of the errors is correctly specified."
     },
     "execution_count": 13,
     "metadata": {},
     "output_type": "execute_result"
    }
   ],
   "source": [
    "simple_ols(risk, 'risk_score', \"self_con_total\")"
   ],
   "metadata": {
    "collapsed": false,
    "ExecuteTime": {
     "end_time": "2024-02-21T18:38:57.526826Z",
     "start_time": "2024-02-21T18:38:57.479608Z"
    }
   },
   "id": "d3649bc938b3458e",
   "execution_count": 13
  },
  {
   "cell_type": "code",
   "outputs": [
    {
     "data": {
      "text/plain": "<class 'statsmodels.iolib.summary.Summary'>\n\"\"\"\n                            OLS Regression Results                            \n==============================================================================\nDep. Variable:             risk_score   R-squared:                       0.009\nModel:                            OLS   Adj. R-squared:                  0.007\nMethod:                 Least Squares   F-statistic:                     5.164\nDate:                Wed, 21 Feb 2024   Prob (F-statistic):             0.0234\nTime:                        12:38:57   Log-Likelihood:                -1694.9\nNo. Observations:                 598   AIC:                             3394.\nDf Residuals:                     596   BIC:                             3403.\nDf Model:                           1                                         \nCovariance Type:            nonrobust                                         \n==============================================================================\n                 coef    std err          t      P>|t|      [0.025      0.975]\n------------------------------------------------------------------------------\nconst         25.7661      0.325     79.375      0.000      25.129      26.404\n0              0.0384      0.017      2.272      0.023       0.005       0.072\n==============================================================================\nOmnibus:                      219.853   Durbin-Watson:                   1.998\nProb(Omnibus):                  0.000   Jarque-Bera (JB):              915.658\nSkew:                           1.647   Prob(JB):                    1.47e-199\nKurtosis:                       8.089   Cond. No.                         37.0\n==============================================================================\n\nNotes:\n[1] Standard Errors assume that the covariance matrix of the errors is correctly specified.\n\"\"\"",
      "text/html": "<table class=\"simpletable\">\n<caption>OLS Regression Results</caption>\n<tr>\n  <th>Dep. Variable:</th>       <td>risk_score</td>    <th>  R-squared:         </th> <td>   0.009</td>\n</tr>\n<tr>\n  <th>Model:</th>                   <td>OLS</td>       <th>  Adj. R-squared:    </th> <td>   0.007</td>\n</tr>\n<tr>\n  <th>Method:</th>             <td>Least Squares</td>  <th>  F-statistic:       </th> <td>   5.164</td>\n</tr>\n<tr>\n  <th>Date:</th>             <td>Wed, 21 Feb 2024</td> <th>  Prob (F-statistic):</th>  <td>0.0234</td> \n</tr>\n<tr>\n  <th>Time:</th>                 <td>12:38:57</td>     <th>  Log-Likelihood:    </th> <td> -1694.9</td>\n</tr>\n<tr>\n  <th>No. Observations:</th>      <td>   598</td>      <th>  AIC:               </th> <td>   3394.</td>\n</tr>\n<tr>\n  <th>Df Residuals:</th>          <td>   596</td>      <th>  BIC:               </th> <td>   3403.</td>\n</tr>\n<tr>\n  <th>Df Model:</th>              <td>     1</td>      <th>                     </th>     <td> </td>   \n</tr>\n<tr>\n  <th>Covariance Type:</th>      <td>nonrobust</td>    <th>                     </th>     <td> </td>   \n</tr>\n</table>\n<table class=\"simpletable\">\n<tr>\n    <td></td>       <th>coef</th>     <th>std err</th>      <th>t</th>      <th>P>|t|</th>  <th>[0.025</th>    <th>0.975]</th>  \n</tr>\n<tr>\n  <th>const</th> <td>   25.7661</td> <td>    0.325</td> <td>   79.375</td> <td> 0.000</td> <td>   25.129</td> <td>   26.404</td>\n</tr>\n<tr>\n  <th>0</th>     <td>    0.0384</td> <td>    0.017</td> <td>    2.272</td> <td> 0.023</td> <td>    0.005</td> <td>    0.072</td>\n</tr>\n</table>\n<table class=\"simpletable\">\n<tr>\n  <th>Omnibus:</th>       <td>219.853</td> <th>  Durbin-Watson:     </th> <td>   1.998</td> \n</tr>\n<tr>\n  <th>Prob(Omnibus):</th> <td> 0.000</td>  <th>  Jarque-Bera (JB):  </th> <td> 915.658</td> \n</tr>\n<tr>\n  <th>Skew:</th>          <td> 1.647</td>  <th>  Prob(JB):          </th> <td>1.47e-199</td>\n</tr>\n<tr>\n  <th>Kurtosis:</th>      <td> 8.089</td>  <th>  Cond. No.          </th> <td>    37.0</td> \n</tr>\n</table><br/><br/>Notes:<br/>[1] Standard Errors assume that the covariance matrix of the errors is correctly specified.",
      "text/latex": "\\begin{center}\n\\begin{tabular}{lclc}\n\\toprule\n\\textbf{Dep. Variable:}    &   risk\\_score    & \\textbf{  R-squared:         } &     0.009   \\\\\n\\textbf{Model:}            &       OLS        & \\textbf{  Adj. R-squared:    } &     0.007   \\\\\n\\textbf{Method:}           &  Least Squares   & \\textbf{  F-statistic:       } &     5.164   \\\\\n\\textbf{Date:}             & Wed, 21 Feb 2024 & \\textbf{  Prob (F-statistic):} &   0.0234    \\\\\n\\textbf{Time:}             &     12:38:57     & \\textbf{  Log-Likelihood:    } &   -1694.9   \\\\\n\\textbf{No. Observations:} &         598      & \\textbf{  AIC:               } &     3394.   \\\\\n\\textbf{Df Residuals:}     &         596      & \\textbf{  BIC:               } &     3403.   \\\\\n\\textbf{Df Model:}         &           1      & \\textbf{                     } &             \\\\\n\\textbf{Covariance Type:}  &    nonrobust     & \\textbf{                     } &             \\\\\n\\bottomrule\n\\end{tabular}\n\\begin{tabular}{lcccccc}\n               & \\textbf{coef} & \\textbf{std err} & \\textbf{t} & \\textbf{P$> |$t$|$} & \\textbf{[0.025} & \\textbf{0.975]}  \\\\\n\\midrule\n\\textbf{const} &      25.7661  &        0.325     &    79.375  &         0.000        &       25.129    &       26.404     \\\\\n\\textbf{0}     &       0.0384  &        0.017     &     2.272  &         0.023        &        0.005    &        0.072     \\\\\n\\bottomrule\n\\end{tabular}\n\\begin{tabular}{lclc}\n\\textbf{Omnibus:}       & 219.853 & \\textbf{  Durbin-Watson:     } &     1.998  \\\\\n\\textbf{Prob(Omnibus):} &   0.000 & \\textbf{  Jarque-Bera (JB):  } &   915.658  \\\\\n\\textbf{Skew:}          &   1.647 & \\textbf{  Prob(JB):          } & 1.47e-199  \\\\\n\\textbf{Kurtosis:}      &   8.089 & \\textbf{  Cond. No.          } &      37.0  \\\\\n\\bottomrule\n\\end{tabular}\n%\\caption{OLS Regression Results}\n\\end{center}\n\nNotes: \\newline\n [1] Standard Errors assume that the covariance matrix of the errors is correctly specified."
     },
     "execution_count": 14,
     "metadata": {},
     "output_type": "execute_result"
    }
   ],
   "source": [
    "simple_ols(risk, 'risk_score', \"self_neu_total\")"
   ],
   "metadata": {
    "collapsed": false,
    "ExecuteTime": {
     "end_time": "2024-02-21T18:38:57.527614Z",
     "start_time": "2024-02-21T18:38:57.494670Z"
    }
   },
   "id": "8dc6202a1f60fa77",
   "execution_count": 14
  },
  {
   "cell_type": "code",
   "outputs": [
    {
     "data": {
      "text/plain": "<class 'statsmodels.iolib.summary.Summary'>\n\"\"\"\n                            OLS Regression Results                            \n==============================================================================\nDep. Variable:             risk_score   R-squared:                       0.010\nModel:                            OLS   Adj. R-squared:                  0.008\nMethod:                 Least Squares   F-statistic:                     5.997\nDate:                Wed, 21 Feb 2024   Prob (F-statistic):             0.0146\nTime:                        12:38:57   Log-Likelihood:                -1694.5\nNo. Observations:                 598   AIC:                             3393.\nDf Residuals:                     596   BIC:                             3402.\nDf Model:                           1                                         \nCovariance Type:            nonrobust                                         \n==============================================================================\n                 coef    std err          t      P>|t|      [0.025      0.975]\n------------------------------------------------------------------------------\nconst         27.0968      0.332     81.609      0.000      26.445      27.749\n0             -0.0364      0.015     -2.449      0.015      -0.066      -0.007\n==============================================================================\nOmnibus:                      213.640   Durbin-Watson:                   1.968\nProb(Omnibus):                  0.000   Jarque-Bera (JB):              834.323\nSkew:                           1.621   Prob(JB):                    6.75e-182\nKurtosis:                       7.793   Cond. No.                         44.0\n==============================================================================\n\nNotes:\n[1] Standard Errors assume that the covariance matrix of the errors is correctly specified.\n\"\"\"",
      "text/html": "<table class=\"simpletable\">\n<caption>OLS Regression Results</caption>\n<tr>\n  <th>Dep. Variable:</th>       <td>risk_score</td>    <th>  R-squared:         </th> <td>   0.010</td>\n</tr>\n<tr>\n  <th>Model:</th>                   <td>OLS</td>       <th>  Adj. R-squared:    </th> <td>   0.008</td>\n</tr>\n<tr>\n  <th>Method:</th>             <td>Least Squares</td>  <th>  F-statistic:       </th> <td>   5.997</td>\n</tr>\n<tr>\n  <th>Date:</th>             <td>Wed, 21 Feb 2024</td> <th>  Prob (F-statistic):</th>  <td>0.0146</td> \n</tr>\n<tr>\n  <th>Time:</th>                 <td>12:38:57</td>     <th>  Log-Likelihood:    </th> <td> -1694.5</td>\n</tr>\n<tr>\n  <th>No. Observations:</th>      <td>   598</td>      <th>  AIC:               </th> <td>   3393.</td>\n</tr>\n<tr>\n  <th>Df Residuals:</th>          <td>   596</td>      <th>  BIC:               </th> <td>   3402.</td>\n</tr>\n<tr>\n  <th>Df Model:</th>              <td>     1</td>      <th>                     </th>     <td> </td>   \n</tr>\n<tr>\n  <th>Covariance Type:</th>      <td>nonrobust</td>    <th>                     </th>     <td> </td>   \n</tr>\n</table>\n<table class=\"simpletable\">\n<tr>\n    <td></td>       <th>coef</th>     <th>std err</th>      <th>t</th>      <th>P>|t|</th>  <th>[0.025</th>    <th>0.975]</th>  \n</tr>\n<tr>\n  <th>const</th> <td>   27.0968</td> <td>    0.332</td> <td>   81.609</td> <td> 0.000</td> <td>   26.445</td> <td>   27.749</td>\n</tr>\n<tr>\n  <th>0</th>     <td>   -0.0364</td> <td>    0.015</td> <td>   -2.449</td> <td> 0.015</td> <td>   -0.066</td> <td>   -0.007</td>\n</tr>\n</table>\n<table class=\"simpletable\">\n<tr>\n  <th>Omnibus:</th>       <td>213.640</td> <th>  Durbin-Watson:     </th> <td>   1.968</td> \n</tr>\n<tr>\n  <th>Prob(Omnibus):</th> <td> 0.000</td>  <th>  Jarque-Bera (JB):  </th> <td> 834.323</td> \n</tr>\n<tr>\n  <th>Skew:</th>          <td> 1.621</td>  <th>  Prob(JB):          </th> <td>6.75e-182</td>\n</tr>\n<tr>\n  <th>Kurtosis:</th>      <td> 7.793</td>  <th>  Cond. No.          </th> <td>    44.0</td> \n</tr>\n</table><br/><br/>Notes:<br/>[1] Standard Errors assume that the covariance matrix of the errors is correctly specified.",
      "text/latex": "\\begin{center}\n\\begin{tabular}{lclc}\n\\toprule\n\\textbf{Dep. Variable:}    &   risk\\_score    & \\textbf{  R-squared:         } &     0.010   \\\\\n\\textbf{Model:}            &       OLS        & \\textbf{  Adj. R-squared:    } &     0.008   \\\\\n\\textbf{Method:}           &  Least Squares   & \\textbf{  F-statistic:       } &     5.997   \\\\\n\\textbf{Date:}             & Wed, 21 Feb 2024 & \\textbf{  Prob (F-statistic):} &   0.0146    \\\\\n\\textbf{Time:}             &     12:38:57     & \\textbf{  Log-Likelihood:    } &   -1694.5   \\\\\n\\textbf{No. Observations:} &         598      & \\textbf{  AIC:               } &     3393.   \\\\\n\\textbf{Df Residuals:}     &         596      & \\textbf{  BIC:               } &     3402.   \\\\\n\\textbf{Df Model:}         &           1      & \\textbf{                     } &             \\\\\n\\textbf{Covariance Type:}  &    nonrobust     & \\textbf{                     } &             \\\\\n\\bottomrule\n\\end{tabular}\n\\begin{tabular}{lcccccc}\n               & \\textbf{coef} & \\textbf{std err} & \\textbf{t} & \\textbf{P$> |$t$|$} & \\textbf{[0.025} & \\textbf{0.975]}  \\\\\n\\midrule\n\\textbf{const} &      27.0968  &        0.332     &    81.609  &         0.000        &       26.445    &       27.749     \\\\\n\\textbf{0}     &      -0.0364  &        0.015     &    -2.449  &         0.015        &       -0.066    &       -0.007     \\\\\n\\bottomrule\n\\end{tabular}\n\\begin{tabular}{lclc}\n\\textbf{Omnibus:}       & 213.640 & \\textbf{  Durbin-Watson:     } &     1.968  \\\\\n\\textbf{Prob(Omnibus):} &   0.000 & \\textbf{  Jarque-Bera (JB):  } &   834.323  \\\\\n\\textbf{Skew:}          &   1.621 & \\textbf{  Prob(JB):          } & 6.75e-182  \\\\\n\\textbf{Kurtosis:}      &   7.793 & \\textbf{  Cond. No.          } &      44.0  \\\\\n\\bottomrule\n\\end{tabular}\n%\\caption{OLS Regression Results}\n\\end{center}\n\nNotes: \\newline\n [1] Standard Errors assume that the covariance matrix of the errors is correctly specified."
     },
     "execution_count": 15,
     "metadata": {},
     "output_type": "execute_result"
    }
   ],
   "source": [
    "simple_ols(risk, 'risk_score', \"self_ope_total\")"
   ],
   "metadata": {
    "collapsed": false,
    "ExecuteTime": {
     "end_time": "2024-02-21T18:38:57.528788Z",
     "start_time": "2024-02-21T18:38:57.506456Z"
    }
   },
   "id": "c231b4a28802ede8",
   "execution_count": 15
  }
 ],
 "metadata": {
  "kernelspec": {
   "display_name": "Python 3",
   "language": "python",
   "name": "python3"
  },
  "language_info": {
   "codemirror_mode": {
    "name": "ipython",
    "version": 2
   },
   "file_extension": ".py",
   "mimetype": "text/x-python",
   "name": "python",
   "nbconvert_exporter": "python",
   "pygments_lexer": "ipython2",
   "version": "2.7.6"
  }
 },
 "nbformat": 4,
 "nbformat_minor": 5
}
