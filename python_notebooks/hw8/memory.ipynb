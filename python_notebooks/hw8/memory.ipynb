{
 "cells": [
  {
   "cell_type": "markdown",
   "id": "4598097d",
   "metadata": {},
   "source": [
    "See the end of this updated tools and agent notebook for how to use langchain memory as required in HW 4-2"
   ]
  },
  {
   "cell_type": "code",
   "execution_count": 1,
   "id": "ef7ee044",
   "metadata": {
    "ExecuteTime": {
     "end_time": "2024-02-26T05:29:51.687188Z",
     "start_time": "2024-02-26T05:29:51.679024Z"
    }
   },
   "outputs": [],
   "source": [
    "%reload_ext dotenv\n",
    "%dotenv -o"
   ]
  },
  {
   "cell_type": "code",
   "execution_count": 2,
   "id": "abf9a2e4",
   "metadata": {
    "ExecuteTime": {
     "end_time": "2024-02-26T05:29:53.029218Z",
     "start_time": "2024-02-26T05:29:51.687951Z"
    }
   },
   "outputs": [],
   "source": [
    "from langchain_openai import ChatOpenAI\n",
    "from langchain.prompts import ChatPromptTemplate\n",
    "from langchain.schema.output_parser import StrOutputParser\n",
    "from langchain.globals import set_debug\n",
    "from langchain.agents import AgentExecutor"
   ]
  },
  {
   "cell_type": "markdown",
   "id": "490354a8",
   "metadata": {},
   "source": [
    "## Build an agent from scratch"
   ]
  },
  {
   "cell_type": "markdown",
   "id": "c4bd57c1",
   "metadata": {},
   "source": [
    "https://python.langchain.com/docs/modules/agents/"
   ]
  },
  {
   "cell_type": "code",
   "execution_count": 3,
   "id": "bd6f066e",
   "metadata": {
    "ExecuteTime": {
     "end_time": "2024-02-26T05:29:53.072003Z",
     "start_time": "2024-02-26T05:29:53.030142Z"
    }
   },
   "outputs": [],
   "source": [
    "llm = ChatOpenAI(model_name=\"gpt-3.5-turbo\", temperature=0)"
   ]
  },
  {
   "cell_type": "markdown",
   "id": "28e7819e",
   "metadata": {},
   "source": [
    "Let's create a custom tool and include an explanation so the LLM can understand what it is useful for"
   ]
  },
  {
   "cell_type": "code",
   "execution_count": 4,
   "id": "ab8081e3",
   "metadata": {
    "ExecuteTime": {
     "end_time": "2024-02-26T05:29:53.079887Z",
     "start_time": "2024-02-26T05:29:53.074780Z"
    }
   },
   "outputs": [],
   "source": [
    "from langchain.agents import tool\n",
    "\n",
    "@tool\n",
    "def get_word_length(word: str) -> int:\n",
    "    \"\"\"Returns the length of a word.\"\"\"\n",
    "    return len(word)\n",
    "\n",
    "tools = [get_word_length]"
   ]
  },
  {
   "cell_type": "code",
   "execution_count": 5,
   "id": "07ed598f",
   "metadata": {
    "ExecuteTime": {
     "end_time": "2024-02-26T05:29:53.083111Z",
     "start_time": "2024-02-26T05:29:53.078778Z"
    }
   },
   "outputs": [],
   "source": [
    "from langchain.prompts import ChatPromptTemplate, MessagesPlaceholder\n",
    "prompt = ChatPromptTemplate.from_messages([\n",
    "    (\"system\", \"You are very powerful assistant, but bad at calculating lengths of words.\"),\n",
    "    (\"user\", \"{input}\"),\n",
    "    MessagesPlaceholder(variable_name=\"agent_scratchpad\"),\n",
    "])"
   ]
  },
  {
   "cell_type": "markdown",
   "id": "64e0bb6b",
   "metadata": {},
   "source": [
    "How does the agent know what tools it can use? Those are passed in as a separate argument, so we can bind those as keyword arguments to the LLM."
   ]
  },
  {
   "cell_type": "code",
   "execution_count": 6,
   "id": "b6e71558",
   "metadata": {
    "ExecuteTime": {
     "end_time": "2024-02-26T05:29:53.189737Z",
     "start_time": "2024-02-26T05:29:53.081876Z"
    }
   },
   "outputs": [],
   "source": [
    "llm_with_tools = llm.bind_tools(tools)"
   ]
  },
  {
   "cell_type": "markdown",
   "id": "5233023e",
   "metadata": {},
   "source": [
    "## Creating memory by hand\n",
    "\n",
    "In order to do this, we need to do two things:\n",
    "\n",
    "1. Add a place for memory variables to go in the prompt\n",
    "2. Keep track of the chat history\n",
    "\n",
    "First, let's add a place for memory in the prompt. We do this by adding a placeholder for messages with the key `chat_history`. Notice that we put this ABOVE the new user input (to follow the conversation flow)."
   ]
  },
  {
   "cell_type": "code",
   "execution_count": 7,
   "id": "ed2d281e",
   "metadata": {
    "ExecuteTime": {
     "end_time": "2024-02-26T05:29:53.196136Z",
     "start_time": "2024-02-26T05:29:53.190843Z"
    }
   },
   "outputs": [],
   "source": [
    "from langchain.prompts import MessagesPlaceholder\n",
    "\n",
    "MEMORY_KEY = \"chat_history\"\n",
    "prompt = ChatPromptTemplate.from_messages([\n",
    "    (\"system\", \"You are very powerful assistant, but bad at calculating lengths of words.\"),\n",
    "    MessagesPlaceholder(variable_name=MEMORY_KEY),\n",
    "    (\"user\", \"{input}\"),\n",
    "    MessagesPlaceholder(variable_name=\"agent_scratchpad\"),\n",
    "])"
   ]
  },
  {
   "cell_type": "markdown",
   "id": "1c609439",
   "metadata": {},
   "source": [
    "We can then set up a list to track the chat history"
   ]
  },
  {
   "cell_type": "code",
   "execution_count": 8,
   "id": "7992e883",
   "metadata": {
    "ExecuteTime": {
     "end_time": "2024-02-26T05:29:53.196418Z",
     "start_time": "2024-02-26T05:29:53.193078Z"
    }
   },
   "outputs": [],
   "source": [
    "from langchain.schema.messages import HumanMessage, AIMessage\n",
    "chat_history = []"
   ]
  },
  {
   "cell_type": "markdown",
   "id": "5c1defc0",
   "metadata": {},
   "source": [
    "Putting it together"
   ]
  },
  {
   "cell_type": "code",
   "outputs": [],
   "source": [
    "from langchain.agents.format_scratchpad.openai_tools import (\n",
    "    format_to_openai_tool_messages,\n",
    ")\n",
    "from langchain.agents.output_parsers.openai_tools import OpenAIToolsAgentOutputParser\n",
    "agent = (\n",
    "    {\n",
    "        \"input\": lambda x: x[\"input\"],\n",
    "        \"agent_scratchpad\": lambda x: format_to_openai_tool_messages(\n",
    "            x[\"intermediate_steps\"]\n",
    "        ),\n",
    "        \"chat_history\": lambda x: x[\"chat_history\"],\n",
    "    }\n",
    "    | prompt\n",
    "    | llm_with_tools\n",
    "    | OpenAIToolsAgentOutputParser()\n",
    ")\n",
    "agent_executor = AgentExecutor(agent=agent, tools=tools, verbose=True)"
   ],
   "metadata": {
    "ExecuteTime": {
     "end_time": "2024-02-26T05:29:53.199264Z",
     "start_time": "2024-02-26T05:29:53.197495Z"
    }
   },
   "id": "3899fe20",
   "execution_count": 9
  },
  {
   "cell_type": "markdown",
   "source": [
    "When running, we now need to track the inputs and outputs as chat history"
   ],
   "metadata": {},
   "id": "fa8e7bf8"
  },
  {
   "cell_type": "code",
   "outputs": [
    {
     "name": "stdout",
     "output_type": "stream",
     "text": [
      "\n",
      "\n",
      "\u001B[1m> Entering new AgentExecutor chain...\u001B[0m\n",
      "\u001B[32;1m\u001B[1;3m\n",
      "Invoking: `get_word_length` with `{'word': 'educa'}`\n",
      "\n",
      "\n",
      "\u001B[0m\u001B[36;1m\u001B[1;3m5\u001B[0m\u001B[32;1m\u001B[1;3mThe word \"educa\" has 5 letters.\u001B[0m\n",
      "\n",
      "\u001B[1m> Finished chain.\u001B[0m\n"
     ]
    }
   ],
   "source": [
    "input1 = \"how many letters in the word educa?\"\n",
    "result = agent_executor.invoke({\"input\": input1, \"chat_history\": chat_history})"
   ],
   "metadata": {
    "ExecuteTime": {
     "end_time": "2024-02-26T05:29:54.667953Z",
     "start_time": "2024-02-26T05:29:53.200122Z"
    }
   },
   "id": "0dc8e960-18c4-4337-bda3-94e195ffaf7a",
   "execution_count": 10
  },
  {
   "cell_type": "code",
   "outputs": [
    {
     "data": {
      "text/plain": "[]"
     },
     "execution_count": 11,
     "metadata": {},
     "output_type": "execute_result"
    }
   ],
   "source": [
    "chat_history"
   ],
   "metadata": {
    "ExecuteTime": {
     "end_time": "2024-02-26T05:29:54.672062Z",
     "start_time": "2024-02-26T05:29:54.665607Z"
    }
   },
   "id": "c5a76e33-5eb5-4686-bd74-e1555c4f987f",
   "execution_count": 11
  },
  {
   "cell_type": "code",
   "outputs": [
    {
     "name": "stdout",
     "output_type": "stream",
     "text": [
      "\n",
      "\n",
      "\u001B[1m> Entering new AgentExecutor chain...\u001B[0m\n",
      "\u001B[32;1m\u001B[1;3m\n",
      "Invoking: `get_word_length` with `{'word': 'educa'}`\n",
      "\n",
      "\n",
      "\u001B[0m\u001B[36;1m\u001B[1;3m5\u001B[0m\u001B[32;1m\u001B[1;3mThe word \"educa\" has 5 letters.\u001B[0m\n",
      "\n",
      "\u001B[1m> Finished chain.\u001B[0m\n",
      "\n",
      "\n",
      "\u001B[1m> Entering new AgentExecutor chain...\u001B[0m\n",
      "\u001B[32;1m\u001B[1;3m\"Educa\" is not a commonly used word in English. It may be a variation or abbreviation of the word \"education.\"\u001B[0m\n",
      "\n",
      "\u001B[1m> Finished chain.\u001B[0m\n"
     ]
    },
    {
     "data": {
      "text/plain": "{'input': 'is that a real word?',\n 'chat_history': [HumanMessage(content='how many letters in the word educa?'),\n  AIMessage(content='The word \"educa\" has 5 letters.')],\n 'output': '\"Educa\" is not a commonly used word in English. It may be a variation or abbreviation of the word \"education.\"'}"
     },
     "execution_count": 12,
     "metadata": {},
     "output_type": "execute_result"
    }
   ],
   "source": [
    "input1 = \"how many letters in the word educa?\"\n",
    "result = agent_executor.invoke({\"input\": input1, \"chat_history\": chat_history})\n",
    "chat_history.append(HumanMessage(content=input1))\n",
    "chat_history.append(AIMessage(content=result['output']))\n",
    "agent_executor.invoke({\"input\": \"is that a real word?\", \"chat_history\": chat_history})"
   ],
   "metadata": {
    "ExecuteTime": {
     "end_time": "2024-02-26T05:29:56.538061Z",
     "start_time": "2024-02-26T05:29:54.673405Z"
    }
   },
   "id": "b26fca8f",
   "execution_count": 12
  },
  {
   "cell_type": "code",
   "outputs": [
    {
     "data": {
      "text/plain": "[HumanMessage(content='how many letters in the word educa?'),\n AIMessage(content='The word \"educa\" has 5 letters.')]"
     },
     "execution_count": 13,
     "metadata": {},
     "output_type": "execute_result"
    }
   ],
   "source": [
    "chat_history"
   ],
   "metadata": {
    "ExecuteTime": {
     "end_time": "2024-02-26T05:29:56.542531Z",
     "start_time": "2024-02-26T05:29:56.537754Z"
    }
   },
   "id": "d55ae408-587c-4748-8c76-91730bb19ecb",
   "execution_count": 13
  },
  {
   "cell_type": "markdown",
   "source": [
    "## Exercise 5-3: Using langchain's memory\n",
    "**Exercise 5-3 (extra credit):** There are \"memory\" tools in langchain to manage this easier. Rewrite this example to use it"
   ],
   "metadata": {},
   "id": "5a8b1242"
  },
  {
   "cell_type": "code",
   "outputs": [],
   "source": [
    "chat_history = []"
   ],
   "metadata": {
    "collapsed": false,
    "ExecuteTime": {
     "end_time": "2024-02-26T05:54:10.644877Z",
     "start_time": "2024-02-26T05:54:10.641191Z"
    }
   },
   "id": "435354353eb6e315",
   "execution_count": 17
  },
  {
   "cell_type": "code",
   "execution_count": 18,
   "id": "5104323f",
   "metadata": {
    "ExecuteTime": {
     "end_time": "2024-02-26T05:54:12.616282Z",
     "start_time": "2024-02-26T05:54:12.611461Z"
    }
   },
   "outputs": [],
   "source": [
    "from langchain.memory import ConversationBufferMemory\n",
    "memory = ConversationBufferMemory(memory_key=\"chat_history\", return_messages=True)\n",
    "agent_executor_m = AgentExecutor(agent=agent, tools=tools, memory = memory, verbose=True)"
   ]
  },
  {
   "cell_type": "markdown",
   "source": [
    "The above pattern is so common that langchain provides a `ConversationBufferMemory` that does exactly what the above does (updating the `chat_history` key with the previous response) and the `AgentExecutor` constructor accepts a `memory` argument.\n",
    "\n",
    "The `memory` argument is used [as follows](https://api.python.langchain.com/en/latest/agents/langchain.agents.agent.AgentExecutor.html)\n",
    "> Memory is a class that gets called at the start and at the end of every chain. At the start, memory loads variables and passes them along in the chain. At the end, it saves any returned variables. There are many different types of memory - please see memory docs for the full catalog."
   ],
   "metadata": {},
   "id": "c736a197"
  },
  {
   "cell_type": "code",
   "execution_count": 21,
   "id": "a3cf78e0",
   "metadata": {
    "ExecuteTime": {
     "end_time": "2024-02-26T05:55:43.989397Z",
     "start_time": "2024-02-26T05:55:40.096254Z"
    }
   },
   "outputs": [
    {
     "name": "stdout",
     "output_type": "stream",
     "text": [
      "\n",
      "\n",
      "\u001B[1m> Entering new AgentExecutor chain...\u001B[0m\n",
      "\u001B[32;1m\u001B[1;3m\n",
      "Invoking: `get_word_length` with `{'word': 'educe'}`\n",
      "\n",
      "\n",
      "\u001B[0m\u001B[36;1m\u001B[1;3m5\u001B[0m\u001B[32;1m\u001B[1;3mThe word \"educe\" has 5 letters.\u001B[0m\n",
      "\n",
      "\u001B[1m> Finished chain.\u001B[0m\n",
      "\n",
      "\n",
      "\u001B[1m> Entering new AgentExecutor chain...\u001B[0m\n",
      "\u001B[32;1m\u001B[1;3mYes, \"educe\" is a real word. It means to bring out or develop (something potential or latent).\u001B[0m\n",
      "\n",
      "\u001B[1m> Finished chain.\u001B[0m\n"
     ]
    },
    {
     "data": {
      "text/plain": "{'input': 'is that a real word?',\n 'chat_history': [HumanMessage(content='how many letters in the word educe?'),\n  AIMessage(content='The word \"educe\" has 5 letters.'),\n  HumanMessage(content='is that a real word?'),\n  AIMessage(content='Yes, \"educe\" is a real word. It means to bring out or develop (something potential or latent).')],\n 'output': 'Yes, \"educe\" is a real word. It means to bring out or develop (something potential or latent).'}"
     },
     "execution_count": 21,
     "metadata": {},
     "output_type": "execute_result"
    }
   ],
   "source": [
    "memory.clear() # In case I am rerunning this cell\n",
    "input1 = \"how many letters in the word educe?\"\n",
    "result = agent_executor_m.invoke({\"input\": input1})\n",
    "agent_executor_m.invoke({\"input\": \"is that a real word?\"})"
   ]
  },
  {
   "cell_type": "code",
   "execution_count": 20,
   "id": "e36332d7-d4eb-43d2-b5a9-066bcbc13ebe",
   "metadata": {
    "ExecuteTime": {
     "end_time": "2024-02-26T05:54:55.569268Z",
     "start_time": "2024-02-26T05:54:55.567105Z"
    }
   },
   "outputs": [
    {
     "data": {
      "text/plain": "[]"
     },
     "execution_count": 20,
     "metadata": {},
     "output_type": "execute_result"
    }
   ],
   "source": [
    "chat_history"
   ]
  }
 ],
 "metadata": {
  "kernelspec": {
   "display_name": "Python 3 (ipykernel)",
   "language": "python",
   "name": "python3"
  },
  "language_info": {
   "codemirror_mode": {
    "name": "ipython",
    "version": 3
   },
   "file_extension": ".py",
   "mimetype": "text/x-python",
   "name": "python",
   "nbconvert_exporter": "python",
   "pygments_lexer": "ipython3",
   "version": "3.11.5"
  }
 },
 "nbformat": 4,
 "nbformat_minor": 5
}
