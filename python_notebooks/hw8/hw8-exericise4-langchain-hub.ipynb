{
 "cells": [
  {
   "cell_type": "code",
   "execution_count": 1,
   "id": "initial_id",
   "metadata": {
    "collapsed": true,
    "ExecuteTime": {
     "end_time": "2024-02-26T06:01:43.324237Z",
     "start_time": "2024-02-26T06:01:43.317724Z"
    }
   },
   "outputs": [],
   "source": [
    "%reload_ext dotenv\n",
    "%dotenv -o"
   ]
  },
  {
   "cell_type": "code",
   "outputs": [],
   "source": [
    "from langchain_openai import ChatOpenAI\n",
    "from langchain.prompts import ChatPromptTemplate\n",
    "from langchain.schema.output_parser import StrOutputParser\n",
    "from langchain.tools import DuckDuckGoSearchRun\n",
    "from langchain.globals import set_debug\n",
    "from langchain.agents import tool\n",
    "from langchain.agents import AgentExecutor\n",
    "import os"
   ],
   "metadata": {
    "collapsed": false,
    "ExecuteTime": {
     "end_time": "2024-02-26T06:01:44.739103Z",
     "start_time": "2024-02-26T06:01:43.324818Z"
    }
   },
   "id": "9ab5610561893a20",
   "execution_count": 2
  },
  {
   "cell_type": "code",
   "outputs": [
    {
     "data": {
      "text/plain": "True"
     },
     "execution_count": 3,
     "metadata": {},
     "output_type": "execute_result"
    }
   ],
   "source": [
    "from dotenv import load_dotenv\n",
    "# Load environment variables: OpenAI API key\n",
    "load_dotenv()"
   ],
   "metadata": {
    "collapsed": false,
    "ExecuteTime": {
     "end_time": "2024-02-26T06:01:44.744839Z",
     "start_time": "2024-02-26T06:01:44.740568Z"
    }
   },
   "id": "4a9076d1f64c6779",
   "execution_count": 3
  },
  {
   "cell_type": "code",
   "outputs": [],
   "source": [
    "openai_api_key = os.environ[\"OPENAI_API_KEY\"]"
   ],
   "metadata": {
    "collapsed": false,
    "ExecuteTime": {
     "end_time": "2024-02-26T06:01:44.747861Z",
     "start_time": "2024-02-26T06:01:44.744926Z"
    }
   },
   "id": "e0b70396f2f2e82e",
   "execution_count": 4
  },
  {
   "cell_type": "markdown",
   "source": [
    "### Create tool for OpenAI chat"
   ],
   "metadata": {
    "collapsed": false
   },
   "id": "b4260f425a295a07"
  },
  {
   "cell_type": "code",
   "outputs": [],
   "source": [
    "@tool\n",
    "def get_word_length(word: str) -> int:\n",
    "    \"\"\"Returns the length of a word.\"\"\"\n",
    "    return len(word)"
   ],
   "metadata": {
    "collapsed": false,
    "ExecuteTime": {
     "end_time": "2024-02-26T06:01:44.753246Z",
     "start_time": "2024-02-26T06:01:44.749969Z"
    }
   },
   "id": "3c67a26fe3160c20",
   "execution_count": 5
  },
  {
   "cell_type": "code",
   "outputs": [
    {
     "data": {
      "text/plain": "3"
     },
     "execution_count": 6,
     "metadata": {},
     "output_type": "execute_result"
    }
   ],
   "source": [
    "# try out the tool\n",
    "get_word_length.invoke(\"abc\")"
   ],
   "metadata": {
    "collapsed": false,
    "ExecuteTime": {
     "end_time": "2024-02-26T06:01:44.756439Z",
     "start_time": "2024-02-26T06:01:44.752724Z"
    }
   },
   "id": "9c5f0e3fbc7a107c",
   "execution_count": 6
  },
  {
   "cell_type": "code",
   "outputs": [],
   "source": [
    "tools = [get_word_length]"
   ],
   "metadata": {
    "collapsed": false,
    "ExecuteTime": {
     "end_time": "2024-02-26T06:01:44.757053Z",
     "start_time": "2024-02-26T06:01:44.755407Z"
    }
   },
   "id": "9c3252095f39b2c3",
   "execution_count": 7
  },
  {
   "cell_type": "markdown",
   "source": [
    "### Create OpenAI chat agent"
   ],
   "metadata": {
    "collapsed": false
   },
   "id": "37b34b2a14aa91d3"
  },
  {
   "cell_type": "code",
   "outputs": [],
   "source": [
    "from langchain_openai import ChatOpenAI\n",
    "\n",
    "llm = ChatOpenAI(model=\"gpt-3.5-turbo\", temperature=0,\n",
    "               openai_api_key = openai_api_key)"
   ],
   "metadata": {
    "collapsed": false,
    "ExecuteTime": {
     "end_time": "2024-02-26T06:01:44.808329Z",
     "start_time": "2024-02-26T06:01:44.757914Z"
    }
   },
   "id": "b14c0618741e34e9",
   "execution_count": 8
  },
  {
   "cell_type": "code",
   "outputs": [],
   "source": [
    "from langchain.prompts import ChatPromptTemplate, MessagesPlaceholder\n",
    "prompt = ChatPromptTemplate.from_messages([\n",
    "    (\"system\", \"You are very powerful assistant, but bad at calculating lengths of words.\"),\n",
    "    (\"user\", \"{input}\"),\n",
    "    MessagesPlaceholder(variable_name=\"agent_scratchpad\"),\n",
    "])"
   ],
   "metadata": {
    "collapsed": false,
    "ExecuteTime": {
     "end_time": "2024-02-26T06:01:44.813336Z",
     "start_time": "2024-02-26T06:01:44.809139Z"
    }
   },
   "id": "340dcc9e20b33482",
   "execution_count": 9
  },
  {
   "cell_type": "code",
   "outputs": [],
   "source": [
    "llm_with_tools = llm.bind_tools(tools)"
   ],
   "metadata": {
    "collapsed": false,
    "ExecuteTime": {
     "end_time": "2024-02-26T06:01:44.956128Z",
     "start_time": "2024-02-26T06:01:44.811649Z"
    }
   },
   "id": "72eadbaa6949a273",
   "execution_count": 10
  },
  {
   "cell_type": "code",
   "outputs": [],
   "source": [
    "from langchain.agents.format_scratchpad.openai_tools import (\n",
    "    format_to_openai_tool_messages,\n",
    ")\n",
    "from langchain.agents.output_parsers.openai_tools import OpenAIToolsAgentOutputParser\n",
    "agent = (\n",
    "    {\n",
    "        \"input\": lambda x: x[\"input\"],\n",
    "        \"agent_scratchpad\": lambda x: format_to_openai_tool_messages(\n",
    "            x[\"intermediate_steps\"]\n",
    "        ),\n",
    "        \"chat_history\": lambda x: x[\"chat_history\"],\n",
    "    }\n",
    "    | prompt\n",
    "    | llm_with_tools\n",
    "    | OpenAIToolsAgentOutputParser()\n",
    ")\n",
    "agent_executor = AgentExecutor(agent=agent, tools=tools, verbose=True)"
   ],
   "metadata": {
    "collapsed": false,
    "ExecuteTime": {
     "end_time": "2024-02-26T06:01:44.963158Z",
     "start_time": "2024-02-26T06:01:44.958726Z"
    }
   },
   "id": "ec35b644842e9312",
   "execution_count": 11
  },
  {
   "cell_type": "code",
   "outputs": [],
   "source": [
    "from langchain.agents import AgentExecutor\n",
    "from langchain.memory import ConversationBufferMemory\n",
    "memory = ConversationBufferMemory(memory_key=\"chat_history\", return_messages=True)\n",
    "agent_executor_m = AgentExecutor(agent=agent, tools=tools, memory = memory, verbose=True)"
   ],
   "metadata": {
    "collapsed": false,
    "ExecuteTime": {
     "end_time": "2024-02-26T06:01:44.966458Z",
     "start_time": "2024-02-26T06:01:44.964436Z"
    }
   },
   "id": "b34076d0f89ea7c2",
   "execution_count": 12
  },
  {
   "cell_type": "code",
   "outputs": [
    {
     "name": "stdout",
     "output_type": "stream",
     "text": [
      "\n",
      "\n",
      "\u001B[1m> Entering new AgentExecutor chain...\u001B[0m\n",
      "\u001B[32;1m\u001B[1;3m\n",
      "Invoking: `get_word_length` with `{'word': 'educe'}`\n",
      "\n",
      "\n",
      "\u001B[0m\u001B[36;1m\u001B[1;3m5\u001B[0m\u001B[32;1m\u001B[1;3mThe word \"educe\" has 5 letters.\u001B[0m\n",
      "\n",
      "\u001B[1m> Finished chain.\u001B[0m\n",
      "\n",
      "\n",
      "\u001B[1m> Entering new AgentExecutor chain...\u001B[0m\n",
      "\u001B[32;1m\u001B[1;3mI'm sorry, but I don't have access to the previous questions asked. How can I assist you today?\u001B[0m\n",
      "\n",
      "\u001B[1m> Finished chain.\u001B[0m\n"
     ]
    },
    {
     "data": {
      "text/plain": "{'input': 'what did I ask in the previous question?',\n 'chat_history': [HumanMessage(content='how many letters in the word educe?'),\n  AIMessage(content='The word \"educe\" has 5 letters.'),\n  HumanMessage(content='what did I ask in the previous question?'),\n  AIMessage(content=\"I'm sorry, but I don't have access to the previous questions asked. How can I assist you today?\")],\n 'output': \"I'm sorry, but I don't have access to the previous questions asked. How can I assist you today?\"}"
     },
     "execution_count": 13,
     "metadata": {},
     "output_type": "execute_result"
    }
   ],
   "source": [
    "memory.clear() # In case I am rerunning this cell\n",
    "chat_history = []\n",
    "input1 = \"how many letters in the word educe?\"\n",
    "result = agent_executor_m.invoke({\"input\": input1})\n",
    "agent_executor_m.invoke({\"input\": \"what did I ask in the previous question?\"})"
   ],
   "metadata": {
    "collapsed": false,
    "ExecuteTime": {
     "end_time": "2024-02-26T06:01:47.059154Z",
     "start_time": "2024-02-26T06:01:44.965760Z"
    }
   },
   "id": "fc6489123e37d9ca",
   "execution_count": 13
  },
  {
   "cell_type": "code",
   "outputs": [
    {
     "data": {
      "text/plain": "ConversationBufferMemory(chat_memory=ChatMessageHistory(messages=[HumanMessage(content='how many letters in the word educe?'), AIMessage(content='The word \"educe\" has 5 letters.'), HumanMessage(content='what did I ask in the previous question?'), AIMessage(content=\"I'm sorry, but I don't have access to the previous questions asked. How can I assist you today?\")]), return_messages=True, memory_key='chat_history')"
     },
     "execution_count": 14,
     "metadata": {},
     "output_type": "execute_result"
    }
   ],
   "source": [
    "memory"
   ],
   "metadata": {
    "collapsed": false,
    "ExecuteTime": {
     "end_time": "2024-02-26T06:01:47.066358Z",
     "start_time": "2024-02-26T06:01:47.060074Z"
    }
   },
   "id": "aec793e79287e401",
   "execution_count": 14
  },
  {
   "cell_type": "code",
   "outputs": [
    {
     "data": {
      "text/plain": "[]"
     },
     "execution_count": 15,
     "metadata": {},
     "output_type": "execute_result"
    }
   ],
   "source": [
    "chat_history"
   ],
   "metadata": {
    "collapsed": false,
    "ExecuteTime": {
     "end_time": "2024-02-26T06:01:47.068031Z",
     "start_time": "2024-02-26T06:01:47.065046Z"
    }
   },
   "id": "21e7da439801ab03",
   "execution_count": 15
  }
 ],
 "metadata": {
  "kernelspec": {
   "display_name": "Python 3",
   "language": "python",
   "name": "python3"
  },
  "language_info": {
   "codemirror_mode": {
    "name": "ipython",
    "version": 2
   },
   "file_extension": ".py",
   "mimetype": "text/x-python",
   "name": "python",
   "nbconvert_exporter": "python",
   "pygments_lexer": "ipython2",
   "version": "2.7.6"
  }
 },
 "nbformat": 4,
 "nbformat_minor": 5
}
