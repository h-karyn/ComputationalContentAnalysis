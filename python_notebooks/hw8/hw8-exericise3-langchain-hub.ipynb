{
 "cells": [
  {
   "cell_type": "markdown",
   "id": "1f0e6641",
   "metadata": {},
   "source": [
    "# Langchain hub\n",
    "Langchain hub is a repository of prompt templates, agents, etc."
   ]
  },
  {
   "cell_type": "code",
   "execution_count": 1,
   "id": "608d2d0b",
   "metadata": {
    "ExecuteTime": {
     "end_time": "2024-02-04T20:24:45.531255Z",
     "start_time": "2024-02-04T20:24:45.514205Z"
    }
   },
   "outputs": [
    {
     "name": "stdout",
     "output_type": "stream",
     "text": [
      "cannot find .env file\n"
     ]
    }
   ],
   "source": [
    "%reload_ext dotenv\n",
    "%dotenv -o"
   ]
  },
  {
   "cell_type": "code",
   "outputs": [],
   "source": [
    "my_api_key = \"\""
   ],
   "metadata": {
    "collapsed": false
   },
   "id": "bbc81c338081adec",
   "execution_count": 2
  },
  {
   "cell_type": "code",
   "outputs": [],
   "source": [
    "from langchain import hub"
   ],
   "metadata": {
    "collapsed": false
   },
   "id": "c64ea54a",
   "execution_count": 3
  },
  {
   "cell_type": "code",
   "execution_count": 9,
   "id": "1cbfaf45-7935-4448-b026-c98ffa244d50",
   "metadata": {
    "ExecuteTime": {
     "end_time": "2024-02-04T20:24:58.293667Z",
     "start_time": "2024-02-04T20:24:57.890602Z"
    }
   },
   "outputs": [],
   "source": [
    "obj = hub.pull(\"hardkothari/prompt-maker\")"
   ]
  },
  {
   "cell_type": "code",
   "outputs": [],
   "source": [
    "from langchain_community.chat_models import ChatOpenAI\n",
    "\n",
    "llm2 = ChatOpenAI(model_name=\"gpt-3.5-turbo\",\n",
    "               openai_api_key = my_api_key)"
   ],
   "metadata": {
    "collapsed": false,
    "ExecuteTime": {
     "end_time": "2024-02-04T20:24:58.338707Z",
     "start_time": "2024-02-04T20:24:58.294266Z"
    }
   },
   "id": "34806f5f03b458fe",
   "execution_count": 10
  },
  {
   "cell_type": "code",
   "outputs": [],
   "source": [
    "chain2 = obj | llm2"
   ],
   "metadata": {
    "collapsed": false,
    "ExecuteTime": {
     "end_time": "2024-02-04T20:24:58.354048Z",
     "start_time": "2024-02-04T20:24:58.338847Z"
    }
   },
   "id": "830bac0260e95efe",
   "execution_count": 11
  },
  {
   "cell_type": "code",
   "outputs": [
    {
     "data": {
      "text/plain": "PromptInput(lazy_prompt=None, task=None)"
     },
     "execution_count": 12,
     "metadata": {},
     "output_type": "execute_result"
    }
   ],
   "source": [
    "chain2.input_schema()"
   ],
   "metadata": {
    "collapsed": false,
    "ExecuteTime": {
     "end_time": "2024-02-04T20:24:58.355985Z",
     "start_time": "2024-02-04T20:24:58.342327Z"
    }
   },
   "id": "1399995a4b2787cc",
   "execution_count": 12
  },
  {
   "cell_type": "code",
   "outputs": [
    {
     "data": {
      "text/plain": "AIMessage(content='As an expert in computational social science, create a compelling tweet to promote the master\\'s program at the University of Chicago.\\n\\n### Instructions:\\n- Emphasize the unique aspects of the program, such as its interdisciplinary approach, cutting-edge research opportunities, renowned faculty, and practical application of computational methods in social sciences.\\n- Highlight the program\\'s benefits, such as developing advanced analytical skills, understanding complex social phenomena, and making a meaningful impact in various fields.\\n- Keep the tweet concise and engaging, using persuasive language and a call-to-action to encourage prospective students to apply or learn more.\\n\\nRemember to use the University of Chicago\\'s handle and appropriate hashtags in your tweet.\\n\\nExample:\\n\\n\"Ready to revolutionize social sciences? Join the prestigious Master\\'s in Computational Social Science program at @UChicago! Gain interdisciplinary expertise, work with world-class faculty, and harness computational methods for impactful research. Apply now and shape the future. #ComputationalSocialScience #UChicago #GradSchool\"')"
     },
     "execution_count": 13,
     "metadata": {},
     "output_type": "execute_result"
    }
   ],
   "source": [
    "chain2.invoke({\"lazy_prompt\": \"Write a tweet to prompt the master's in computational social science program at University of Chicago.\",\n",
    "               \"task\":\"writing an advertisement tweet \"})"
   ],
   "metadata": {
    "collapsed": false,
    "ExecuteTime": {
     "end_time": "2024-02-04T20:25:01.345845Z",
     "start_time": "2024-02-04T20:24:58.345323Z"
    }
   },
   "id": "72977a922d63cfc1",
   "execution_count": 13
  },
  {
   "cell_type": "code",
   "outputs": [
    {
     "name": "stdout",
     "output_type": "stream",
     "text": [
      "As an expert in promoting academic programs, create a captivating tweet to advertise the master's in computational social science program at the University of Chicago.\n",
      "\n",
      "### Context:\n",
      "The University of Chicago offers a cutting-edge master's program in computational social science that combines computer science, social science, and data analysis. The program equips students with the skills and knowledge to analyze large-scale social data and make meaningful insights into complex social phenomena.\n",
      "\n",
      "### Instructions:\n",
      "Write a tweet that highlights the unique aspects and benefits of the master's in computational social science program. Use persuasive language and concise messaging to engage your audience and encourage them to learn more.\n",
      "\n",
      "### Desired outcome:\n",
      "The tweet should pique the interest of prospective students, emphasizing the program's interdisciplinary nature, prestigious institution, and its ability to provide valuable insights into social phenomena through data analysis.\n",
      "\n",
      "### Length:\n",
      "The tweet should be no more than 280 characters.\n",
      "\n",
      "### Format:\n",
      "The tweet should be concise, engaging, and captivating, designed to catch the attention of potential applicants scrolling through their feeds.\n",
      "\n",
      "### Style:\n",
      "Use a persuasive and enthusiastic tone to convey the excitement and value of the program. Incorporate relevant keywords to optimize the tweet for searchability.\n",
      "\n",
      "EXAMPLE:\n",
      "\"Unlock the power of data and social science with our master's in computational social science at the prestigious University of Chicago. Gain the skills to analyze complex social phenomena and make an impact in today's data-driven world. Join us in shaping the future! #Computationalsocialscience #DataAnalysis #UChicago\"\n"
     ]
    }
   ],
   "source": [
    "print(chain2.invoke({\"lazy_prompt\": \"Write a tweet to prompt the master's in computational social science program at University of Chicago.\",\n",
    "               \"task\":\"writing an advertisement tweet \"}).content)"
   ],
   "metadata": {
    "collapsed": false,
    "ExecuteTime": {
     "end_time": "2024-02-04T20:25:06.040825Z",
     "start_time": "2024-02-04T20:25:01.353096Z"
    }
   },
   "id": "bf04d70ee118e073",
   "execution_count": 14
  }
 ],
 "metadata": {
  "kernelspec": {
   "display_name": "Python 3 (ipykernel)",
   "language": "python",
   "name": "python3"
  },
  "language_info": {
   "codemirror_mode": {
    "name": "ipython",
    "version": 3
   },
   "file_extension": ".py",
   "mimetype": "text/x-python",
   "name": "python",
   "nbconvert_exporter": "python",
   "pygments_lexer": "ipython3",
   "version": "3.11.5"
  }
 },
 "nbformat": 4,
 "nbformat_minor": 5
}
